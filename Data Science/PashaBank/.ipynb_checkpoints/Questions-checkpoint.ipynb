{
 "cells": [
  {
   "cell_type": "markdown",
   "metadata": {
    "colab_type": "text",
    "id": "8MiMTc5_NNPj"
   },
   "source": [
    "# Data Science Challenge"
   ]
  },
  {
   "cell_type": "code",
   "execution_count": null,
   "metadata": {
    "colab": {},
    "colab_type": "code",
    "id": "QP1q2srGNNPo"
   },
   "outputs": [],
   "source": [
    "# If additional packages are needed but are not installed by default, uncomment the last two lines of this cell\n",
    "# and replace <package list> with a list of additional packages.\n",
    "# This will ensure the notebook has all the dependencies and works everywhere\n",
    "\n",
    "#import sys\n",
    "#!{sys.executable} -m pip install <package list>"
   ]
  },
  {
   "cell_type": "code",
   "execution_count": 4,
   "metadata": {
    "colab": {},
    "colab_type": "code",
    "id": "ZnKy7tPyNNPs"
   },
   "outputs": [],
   "source": [
    "# Libraries\n",
    "import pandas as pd\n",
    "import numpy as np\n",
    "import matplotlib.pyplot as plt\n",
    "import seaborn as sns\n",
    "pd.set_option(\"display.max_columns\", 101)"
   ]
  },
  {
   "cell_type": "markdown",
   "metadata": {
    "colab_type": "text",
    "id": "3DZrs3tbNNPv"
   },
   "source": [
    "## Data Description"
   ]
  },
  {
   "cell_type": "markdown",
   "metadata": {
    "colab_type": "text",
    "id": "ErDxdcsoNNPx"
   },
   "source": [
    "Column | Description\n",
    ":---|:---\n",
    "`id` | Unique identifier for each booking.\n",
    "`lead_time` | Time between booking date and reservation date (in days)\n",
    "`arrival_week` | Week number of the arrival date.\n",
    "`duration` | Booking duration (in Days)\n",
    "`prev_cancel` | Number of previous bookings that were cancelled by the customer prior to the current booking.\n",
    "`booking_changes` | Number of changes/amendments made to the booking from the moment the booking was entered on the PMS until the moment of check-in or cancellation. \n",
    "`waiting_period` | Waiting period for booking confirmation (in Days)\t\n",
    "`per_Day_price` | Per night booking price (in US $).\n",
    "`parking` | Number of car parking spaces required by the customer.\n",
    "`special_request` | Number of special requests made by the customer.\n",
    "`segment` | Market segment designation. In categories, “TA” means “Travel Agents” and “TO” means “Tour Operators”.\n",
    "`deposit` | Whether the customer made a deposit to guarantee the booking.\n",
    "`cust_type` | Type of booking, assuming one of four categories.\n",
    "`is_cancelled` |Value indicating if the booking was cancelled (1) or not (0)."
   ]
  },
  {
   "cell_type": "markdown",
   "metadata": {
    "colab_type": "text",
    "id": "knONIoqcNNPy"
   },
   "source": [
    "## Data Wrangling & Visualization"
   ]
  },
  {
   "cell_type": "code",
   "execution_count": 5,
   "metadata": {
    "colab": {},
    "colab_type": "code",
    "id": "SRLzBBNNNNPz"
   },
   "outputs": [],
   "source": [
    "# The dataset is already loaded below\n",
    "data = pd.read_csv(\"train.csv\")"
   ]
  },
  {
   "cell_type": "code",
   "execution_count": 6,
   "metadata": {
    "colab": {},
    "colab_type": "code",
    "id": "61JhPEGiNNP4",
    "outputId": "48dac540-e9ac-49a2-cfcd-575b92b3ffc9"
   },
   "outputs": [
    {
     "data": {
      "text/html": [
       "<div>\n",
       "<style scoped>\n",
       "    .dataframe tbody tr th:only-of-type {\n",
       "        vertical-align: middle;\n",
       "    }\n",
       "\n",
       "    .dataframe tbody tr th {\n",
       "        vertical-align: top;\n",
       "    }\n",
       "\n",
       "    .dataframe thead th {\n",
       "        text-align: right;\n",
       "    }\n",
       "</style>\n",
       "<table border=\"1\" class=\"dataframe\">\n",
       "  <thead>\n",
       "    <tr style=\"text-align: right;\">\n",
       "      <th></th>\n",
       "      <th>id</th>\n",
       "      <th>lead_time</th>\n",
       "      <th>arrival_week</th>\n",
       "      <th>duration</th>\n",
       "      <th>prev_cancel</th>\n",
       "      <th>booking_changes</th>\n",
       "      <th>waiting_period</th>\n",
       "      <th>per_Day_price</th>\n",
       "      <th>parking</th>\n",
       "      <th>special_request</th>\n",
       "      <th>segment</th>\n",
       "      <th>deposit</th>\n",
       "      <th>cust_type</th>\n",
       "      <th>is_cancelled</th>\n",
       "    </tr>\n",
       "  </thead>\n",
       "  <tbody>\n",
       "    <tr>\n",
       "      <th>0</th>\n",
       "      <td>200</td>\n",
       "      <td>245</td>\n",
       "      <td>13</td>\n",
       "      <td>5</td>\n",
       "      <td>0</td>\n",
       "      <td>0</td>\n",
       "      <td>0</td>\n",
       "      <td>78.26</td>\n",
       "      <td>0</td>\n",
       "      <td>2</td>\n",
       "      <td>Online TA</td>\n",
       "      <td>No Deposit</td>\n",
       "      <td>Transient</td>\n",
       "      <td>0</td>\n",
       "    </tr>\n",
       "    <tr>\n",
       "      <th>1</th>\n",
       "      <td>201</td>\n",
       "      <td>170</td>\n",
       "      <td>25</td>\n",
       "      <td>2</td>\n",
       "      <td>0</td>\n",
       "      <td>0</td>\n",
       "      <td>0</td>\n",
       "      <td>130.50</td>\n",
       "      <td>0</td>\n",
       "      <td>0</td>\n",
       "      <td>Online TA</td>\n",
       "      <td>No Deposit</td>\n",
       "      <td>Transient</td>\n",
       "      <td>0</td>\n",
       "    </tr>\n",
       "    <tr>\n",
       "      <th>2</th>\n",
       "      <td>202</td>\n",
       "      <td>304</td>\n",
       "      <td>45</td>\n",
       "      <td>3</td>\n",
       "      <td>0</td>\n",
       "      <td>0</td>\n",
       "      <td>0</td>\n",
       "      <td>89.00</td>\n",
       "      <td>0</td>\n",
       "      <td>0</td>\n",
       "      <td>Offline TA/TO</td>\n",
       "      <td>Non Refund</td>\n",
       "      <td>Transient</td>\n",
       "      <td>1</td>\n",
       "    </tr>\n",
       "    <tr>\n",
       "      <th>3</th>\n",
       "      <td>203</td>\n",
       "      <td>19</td>\n",
       "      <td>7</td>\n",
       "      <td>1</td>\n",
       "      <td>0</td>\n",
       "      <td>0</td>\n",
       "      <td>0</td>\n",
       "      <td>82.13</td>\n",
       "      <td>0</td>\n",
       "      <td>2</td>\n",
       "      <td>Online TA</td>\n",
       "      <td>No Deposit</td>\n",
       "      <td>Transient</td>\n",
       "      <td>0</td>\n",
       "    </tr>\n",
       "    <tr>\n",
       "      <th>4</th>\n",
       "      <td>204</td>\n",
       "      <td>214</td>\n",
       "      <td>27</td>\n",
       "      <td>4</td>\n",
       "      <td>0</td>\n",
       "      <td>0</td>\n",
       "      <td>0</td>\n",
       "      <td>89.10</td>\n",
       "      <td>0</td>\n",
       "      <td>1</td>\n",
       "      <td>Direct</td>\n",
       "      <td>No Deposit</td>\n",
       "      <td>Transient-Party</td>\n",
       "      <td>0</td>\n",
       "    </tr>\n",
       "  </tbody>\n",
       "</table>\n",
       "</div>"
      ],
      "text/plain": [
       "    id  lead_time  arrival_week  duration  prev_cancel  booking_changes  \\\n",
       "0  200        245            13         5            0                0   \n",
       "1  201        170            25         2            0                0   \n",
       "2  202        304            45         3            0                0   \n",
       "3  203         19             7         1            0                0   \n",
       "4  204        214            27         4            0                0   \n",
       "\n",
       "   waiting_period  per_Day_price  parking  special_request        segment  \\\n",
       "0               0          78.26        0                2      Online TA   \n",
       "1               0         130.50        0                0      Online TA   \n",
       "2               0          89.00        0                0  Offline TA/TO   \n",
       "3               0          82.13        0                2      Online TA   \n",
       "4               0          89.10        0                1         Direct   \n",
       "\n",
       "           deposit        cust_type  is_cancelled  \n",
       "0  No Deposit             Transient             0  \n",
       "1  No Deposit             Transient             0  \n",
       "2  Non Refund             Transient             1  \n",
       "3  No Deposit             Transient             0  \n",
       "4  No Deposit       Transient-Party             0  "
      ]
     },
     "execution_count": 6,
     "metadata": {},
     "output_type": "execute_result"
    }
   ],
   "source": [
    "data.head()"
   ]
  },
  {
   "cell_type": "code",
   "execution_count": 7,
   "metadata": {},
   "outputs": [
    {
     "data": {
      "text/plain": [
       "(3000, 14)"
      ]
     },
     "execution_count": 7,
     "metadata": {},
     "output_type": "execute_result"
    }
   ],
   "source": [
    "data.shape"
   ]
  },
  {
   "cell_type": "code",
   "execution_count": 8,
   "metadata": {
    "colab": {},
    "colab_type": "code",
    "id": "KwZ-0ykHNNP-",
    "outputId": "31813dc0-53be-4848-e86a-60e5efb46e07"
   },
   "outputs": [
    {
     "data": {
      "text/plain": [
       "Index(['id', 'lead_time', 'arrival_week', 'duration', 'prev_cancel',\n",
       "       'booking_changes', 'waiting_period', 'per_Day_price', 'parking',\n",
       "       'special_request', 'segment', 'deposit', 'cust_type', 'is_cancelled'],\n",
       "      dtype='object')"
      ]
     },
     "execution_count": 8,
     "metadata": {},
     "output_type": "execute_result"
    }
   ],
   "source": [
    "#Explore columns\n",
    "data.columns"
   ]
  },
  {
   "cell_type": "code",
   "execution_count": 9,
   "metadata": {
    "colab": {},
    "colab_type": "code",
    "id": "ekzXg7HBNNQB",
    "outputId": "3d4d826d-09c2-44d7-fb30-d7932f90dff9"
   },
   "outputs": [
    {
     "data": {
      "text/html": [
       "<div>\n",
       "<style scoped>\n",
       "    .dataframe tbody tr th:only-of-type {\n",
       "        vertical-align: middle;\n",
       "    }\n",
       "\n",
       "    .dataframe tbody tr th {\n",
       "        vertical-align: top;\n",
       "    }\n",
       "\n",
       "    .dataframe thead th {\n",
       "        text-align: right;\n",
       "    }\n",
       "</style>\n",
       "<table border=\"1\" class=\"dataframe\">\n",
       "  <thead>\n",
       "    <tr style=\"text-align: right;\">\n",
       "      <th></th>\n",
       "      <th>id</th>\n",
       "      <th>lead_time</th>\n",
       "      <th>arrival_week</th>\n",
       "      <th>duration</th>\n",
       "      <th>prev_cancel</th>\n",
       "      <th>booking_changes</th>\n",
       "      <th>waiting_period</th>\n",
       "      <th>per_Day_price</th>\n",
       "      <th>parking</th>\n",
       "      <th>special_request</th>\n",
       "      <th>is_cancelled</th>\n",
       "    </tr>\n",
       "  </thead>\n",
       "  <tbody>\n",
       "    <tr>\n",
       "      <th>count</th>\n",
       "      <td>3000.000000</td>\n",
       "      <td>3000.0000</td>\n",
       "      <td>3000.000000</td>\n",
       "      <td>3000.000000</td>\n",
       "      <td>3000.000000</td>\n",
       "      <td>3000.000000</td>\n",
       "      <td>3000.000000</td>\n",
       "      <td>3000.000000</td>\n",
       "      <td>3000.000000</td>\n",
       "      <td>3000.000000</td>\n",
       "      <td>3000.000000</td>\n",
       "    </tr>\n",
       "    <tr>\n",
       "      <th>mean</th>\n",
       "      <td>1699.500000</td>\n",
       "      <td>110.8670</td>\n",
       "      <td>27.215333</td>\n",
       "      <td>2.187333</td>\n",
       "      <td>0.084667</td>\n",
       "      <td>0.189000</td>\n",
       "      <td>3.325000</td>\n",
       "      <td>104.660693</td>\n",
       "      <td>0.022333</td>\n",
       "      <td>0.547667</td>\n",
       "      <td>0.409667</td>\n",
       "    </tr>\n",
       "    <tr>\n",
       "      <th>std</th>\n",
       "      <td>866.169729</td>\n",
       "      <td>112.8239</td>\n",
       "      <td>13.414008</td>\n",
       "      <td>1.449692</td>\n",
       "      <td>0.392704</td>\n",
       "      <td>0.569257</td>\n",
       "      <td>20.426611</td>\n",
       "      <td>38.304952</td>\n",
       "      <td>0.147790</td>\n",
       "      <td>0.786512</td>\n",
       "      <td>0.491854</td>\n",
       "    </tr>\n",
       "    <tr>\n",
       "      <th>min</th>\n",
       "      <td>200.000000</td>\n",
       "      <td>0.0000</td>\n",
       "      <td>1.000000</td>\n",
       "      <td>0.000000</td>\n",
       "      <td>0.000000</td>\n",
       "      <td>0.000000</td>\n",
       "      <td>0.000000</td>\n",
       "      <td>0.000000</td>\n",
       "      <td>0.000000</td>\n",
       "      <td>0.000000</td>\n",
       "      <td>0.000000</td>\n",
       "    </tr>\n",
       "    <tr>\n",
       "      <th>25%</th>\n",
       "      <td>949.750000</td>\n",
       "      <td>23.0000</td>\n",
       "      <td>17.000000</td>\n",
       "      <td>1.000000</td>\n",
       "      <td>0.000000</td>\n",
       "      <td>0.000000</td>\n",
       "      <td>0.000000</td>\n",
       "      <td>79.000000</td>\n",
       "      <td>0.000000</td>\n",
       "      <td>0.000000</td>\n",
       "      <td>0.000000</td>\n",
       "    </tr>\n",
       "    <tr>\n",
       "      <th>50%</th>\n",
       "      <td>1699.500000</td>\n",
       "      <td>75.0000</td>\n",
       "      <td>28.000000</td>\n",
       "      <td>2.000000</td>\n",
       "      <td>0.000000</td>\n",
       "      <td>0.000000</td>\n",
       "      <td>0.000000</td>\n",
       "      <td>99.000000</td>\n",
       "      <td>0.000000</td>\n",
       "      <td>0.000000</td>\n",
       "      <td>0.000000</td>\n",
       "    </tr>\n",
       "    <tr>\n",
       "      <th>75%</th>\n",
       "      <td>2449.250000</td>\n",
       "      <td>166.0000</td>\n",
       "      <td>38.000000</td>\n",
       "      <td>3.000000</td>\n",
       "      <td>0.000000</td>\n",
       "      <td>0.000000</td>\n",
       "      <td>0.000000</td>\n",
       "      <td>125.000000</td>\n",
       "      <td>0.000000</td>\n",
       "      <td>1.000000</td>\n",
       "      <td>1.000000</td>\n",
       "    </tr>\n",
       "    <tr>\n",
       "      <th>max</th>\n",
       "      <td>3199.000000</td>\n",
       "      <td>629.0000</td>\n",
       "      <td>53.000000</td>\n",
       "      <td>18.000000</td>\n",
       "      <td>11.000000</td>\n",
       "      <td>13.000000</td>\n",
       "      <td>391.000000</td>\n",
       "      <td>313.670000</td>\n",
       "      <td>1.000000</td>\n",
       "      <td>5.000000</td>\n",
       "      <td>1.000000</td>\n",
       "    </tr>\n",
       "  </tbody>\n",
       "</table>\n",
       "</div>"
      ],
      "text/plain": [
       "                id  lead_time  arrival_week     duration  prev_cancel  \\\n",
       "count  3000.000000  3000.0000   3000.000000  3000.000000  3000.000000   \n",
       "mean   1699.500000   110.8670     27.215333     2.187333     0.084667   \n",
       "std     866.169729   112.8239     13.414008     1.449692     0.392704   \n",
       "min     200.000000     0.0000      1.000000     0.000000     0.000000   \n",
       "25%     949.750000    23.0000     17.000000     1.000000     0.000000   \n",
       "50%    1699.500000    75.0000     28.000000     2.000000     0.000000   \n",
       "75%    2449.250000   166.0000     38.000000     3.000000     0.000000   \n",
       "max    3199.000000   629.0000     53.000000    18.000000    11.000000   \n",
       "\n",
       "       booking_changes  waiting_period  per_Day_price      parking  \\\n",
       "count      3000.000000     3000.000000    3000.000000  3000.000000   \n",
       "mean          0.189000        3.325000     104.660693     0.022333   \n",
       "std           0.569257       20.426611      38.304952     0.147790   \n",
       "min           0.000000        0.000000       0.000000     0.000000   \n",
       "25%           0.000000        0.000000      79.000000     0.000000   \n",
       "50%           0.000000        0.000000      99.000000     0.000000   \n",
       "75%           0.000000        0.000000     125.000000     0.000000   \n",
       "max          13.000000      391.000000     313.670000     1.000000   \n",
       "\n",
       "       special_request  is_cancelled  \n",
       "count      3000.000000   3000.000000  \n",
       "mean          0.547667      0.409667  \n",
       "std           0.786512      0.491854  \n",
       "min           0.000000      0.000000  \n",
       "25%           0.000000      0.000000  \n",
       "50%           0.000000      0.000000  \n",
       "75%           1.000000      1.000000  \n",
       "max           5.000000      1.000000  "
      ]
     },
     "execution_count": 9,
     "metadata": {},
     "output_type": "execute_result"
    }
   ],
   "source": [
    "#Description\n",
    "data.describe()"
   ]
  },
  {
   "cell_type": "markdown",
   "metadata": {
    "colab_type": "text",
    "id": "776AnflSNNQD"
   },
   "source": [
    "## Visualization, Modeling, Machine Learning\n",
    "\n",
    "Build a classification model and to determine whether a customer will cancel a booking. Please explain the findings effectively to technical and non-technical audiences using comments and visualizations, if appropriate.\n",
    "- **Build an optimized model that effectively solves the business problem.**\n",
    "- **The model's performance will be evaluated on the basis of accuracy.**\n",
    "- **Read the test.csv file and prepare features for testing.**"
   ]
  },
  {
   "cell_type": "code",
   "execution_count": 84,
   "metadata": {
    "colab": {},
    "colab_type": "code",
    "id": "cwO5c1ABNNQE",
    "outputId": "6246cf4b-42f0-4805-c1c9-8b3086af2f1b"
   },
   "outputs": [
    {
     "name": "stdout",
     "output_type": "stream",
     "text": [
      "(1000, 13)\n"
     ]
    },
    {
     "data": {
      "text/html": [
       "<div>\n",
       "<style scoped>\n",
       "    .dataframe tbody tr th:only-of-type {\n",
       "        vertical-align: middle;\n",
       "    }\n",
       "\n",
       "    .dataframe tbody tr th {\n",
       "        vertical-align: top;\n",
       "    }\n",
       "\n",
       "    .dataframe thead th {\n",
       "        text-align: right;\n",
       "    }\n",
       "</style>\n",
       "<table border=\"1\" class=\"dataframe\">\n",
       "  <thead>\n",
       "    <tr style=\"text-align: right;\">\n",
       "      <th></th>\n",
       "      <th>id</th>\n",
       "      <th>lead_time</th>\n",
       "      <th>arrival_week</th>\n",
       "      <th>duration</th>\n",
       "      <th>prev_cancel</th>\n",
       "      <th>booking_changes</th>\n",
       "      <th>waiting_period</th>\n",
       "      <th>per_Day_price</th>\n",
       "      <th>parking</th>\n",
       "      <th>special_request</th>\n",
       "      <th>segment</th>\n",
       "      <th>deposit</th>\n",
       "      <th>cust_type</th>\n",
       "    </tr>\n",
       "  </thead>\n",
       "  <tbody>\n",
       "    <tr>\n",
       "      <th>0</th>\n",
       "      <td>3200</td>\n",
       "      <td>45</td>\n",
       "      <td>9</td>\n",
       "      <td>3</td>\n",
       "      <td>0</td>\n",
       "      <td>2</td>\n",
       "      <td>0</td>\n",
       "      <td>80.3</td>\n",
       "      <td>0</td>\n",
       "      <td>1</td>\n",
       "      <td>Online TA</td>\n",
       "      <td>No Deposit</td>\n",
       "      <td>Transient</td>\n",
       "    </tr>\n",
       "    <tr>\n",
       "      <th>1</th>\n",
       "      <td>3201</td>\n",
       "      <td>7</td>\n",
       "      <td>3</td>\n",
       "      <td>5</td>\n",
       "      <td>0</td>\n",
       "      <td>0</td>\n",
       "      <td>0</td>\n",
       "      <td>73.9</td>\n",
       "      <td>0</td>\n",
       "      <td>0</td>\n",
       "      <td>Online TA</td>\n",
       "      <td>No Deposit</td>\n",
       "      <td>Transient</td>\n",
       "    </tr>\n",
       "    <tr>\n",
       "      <th>2</th>\n",
       "      <td>3202</td>\n",
       "      <td>0</td>\n",
       "      <td>32</td>\n",
       "      <td>2</td>\n",
       "      <td>0</td>\n",
       "      <td>1</td>\n",
       "      <td>0</td>\n",
       "      <td>80.0</td>\n",
       "      <td>1</td>\n",
       "      <td>1</td>\n",
       "      <td>Online TA</td>\n",
       "      <td>No Deposit</td>\n",
       "      <td>Contract</td>\n",
       "    </tr>\n",
       "    <tr>\n",
       "      <th>3</th>\n",
       "      <td>3203</td>\n",
       "      <td>101</td>\n",
       "      <td>32</td>\n",
       "      <td>1</td>\n",
       "      <td>0</td>\n",
       "      <td>0</td>\n",
       "      <td>0</td>\n",
       "      <td>107.1</td>\n",
       "      <td>0</td>\n",
       "      <td>0</td>\n",
       "      <td>Online TA</td>\n",
       "      <td>No Deposit</td>\n",
       "      <td>Transient</td>\n",
       "    </tr>\n",
       "    <tr>\n",
       "      <th>4</th>\n",
       "      <td>3204</td>\n",
       "      <td>95</td>\n",
       "      <td>6</td>\n",
       "      <td>2</td>\n",
       "      <td>0</td>\n",
       "      <td>0</td>\n",
       "      <td>0</td>\n",
       "      <td>72.0</td>\n",
       "      <td>0</td>\n",
       "      <td>0</td>\n",
       "      <td>Offline TA/TO</td>\n",
       "      <td>No Deposit</td>\n",
       "      <td>Transient</td>\n",
       "    </tr>\n",
       "  </tbody>\n",
       "</table>\n",
       "</div>"
      ],
      "text/plain": [
       "     id  lead_time  arrival_week  duration  prev_cancel  booking_changes  \\\n",
       "0  3200         45             9         3            0                2   \n",
       "1  3201          7             3         5            0                0   \n",
       "2  3202          0            32         2            0                1   \n",
       "3  3203        101            32         1            0                0   \n",
       "4  3204         95             6         2            0                0   \n",
       "\n",
       "   waiting_period  per_Day_price  parking  special_request        segment  \\\n",
       "0               0           80.3        0                1      Online TA   \n",
       "1               0           73.9        0                0      Online TA   \n",
       "2               0           80.0        1                1      Online TA   \n",
       "3               0          107.1        0                0      Online TA   \n",
       "4               0           72.0        0                0  Offline TA/TO   \n",
       "\n",
       "           deposit  cust_type  \n",
       "0  No Deposit       Transient  \n",
       "1  No Deposit       Transient  \n",
       "2  No Deposit        Contract  \n",
       "3  No Deposit       Transient  \n",
       "4  No Deposit       Transient  "
      ]
     },
     "execution_count": 84,
     "metadata": {},
     "output_type": "execute_result"
    }
   ],
   "source": [
    "#Loading Test data\n",
    "test_data=pd.read_csv('test.csv')\n",
    "print(test_data.shape)\n",
    "test_data.head()"
   ]
  },
  {
   "cell_type": "code",
   "execution_count": null,
   "metadata": {
    "colab": {},
    "colab_type": "code",
    "id": "hAmSb7AfNNQI"
   },
   "outputs": [],
   "source": []
  },
  {
   "cell_type": "markdown",
   "metadata": {
    "colab": {},
    "colab_type": "code",
    "id": "E6VYAA-iNNQM"
   },
   "source": [
    "### Check and Handle missing values"
   ]
  },
  {
   "cell_type": "code",
   "execution_count": 11,
   "metadata": {},
   "outputs": [
    {
     "data": {
      "text/plain": [
       "id                 0\n",
       "lead_time          0\n",
       "arrival_week       0\n",
       "duration           0\n",
       "prev_cancel        0\n",
       "booking_changes    0\n",
       "waiting_period     0\n",
       "per_Day_price      0\n",
       "parking            0\n",
       "special_request    0\n",
       "segment            0\n",
       "deposit            0\n",
       "cust_type          0\n",
       "is_cancelled       0\n",
       "dtype: int64"
      ]
     },
     "execution_count": 11,
     "metadata": {},
     "output_type": "execute_result"
    }
   ],
   "source": [
    "data.isnull().sum()\n"
   ]
  },
  {
   "cell_type": "markdown",
   "metadata": {},
   "source": [
    "There is no missing values so we can continue to the next steps"
   ]
  },
  {
   "cell_type": "code",
   "execution_count": 12,
   "metadata": {},
   "outputs": [],
   "source": [
    "#drop id columns\n",
    "data.drop(columns=[\"id\"],inplace = True)\n",
    "raw_data = data.copy()"
   ]
  },
  {
   "cell_type": "markdown",
   "metadata": {},
   "source": [
    "### Handle category features"
   ]
  },
  {
   "cell_type": "code",
   "execution_count": 13,
   "metadata": {},
   "outputs": [
    {
     "data": {
      "text/html": [
       "<div>\n",
       "<style scoped>\n",
       "    .dataframe tbody tr th:only-of-type {\n",
       "        vertical-align: middle;\n",
       "    }\n",
       "\n",
       "    .dataframe tbody tr th {\n",
       "        vertical-align: top;\n",
       "    }\n",
       "\n",
       "    .dataframe thead th {\n",
       "        text-align: right;\n",
       "    }\n",
       "</style>\n",
       "<table border=\"1\" class=\"dataframe\">\n",
       "  <thead>\n",
       "    <tr style=\"text-align: right;\">\n",
       "      <th></th>\n",
       "      <th>lead_time</th>\n",
       "      <th>arrival_week</th>\n",
       "      <th>duration</th>\n",
       "      <th>prev_cancel</th>\n",
       "      <th>booking_changes</th>\n",
       "      <th>waiting_period</th>\n",
       "      <th>per_Day_price</th>\n",
       "      <th>parking</th>\n",
       "      <th>special_request</th>\n",
       "      <th>segment</th>\n",
       "      <th>deposit</th>\n",
       "      <th>cust_type</th>\n",
       "      <th>is_cancelled</th>\n",
       "    </tr>\n",
       "  </thead>\n",
       "  <tbody>\n",
       "    <tr>\n",
       "      <th>0</th>\n",
       "      <td>245</td>\n",
       "      <td>13</td>\n",
       "      <td>5</td>\n",
       "      <td>0</td>\n",
       "      <td>0</td>\n",
       "      <td>0</td>\n",
       "      <td>78.26</td>\n",
       "      <td>0</td>\n",
       "      <td>2</td>\n",
       "      <td>Online TA</td>\n",
       "      <td>No Deposit</td>\n",
       "      <td>Transient</td>\n",
       "      <td>0</td>\n",
       "    </tr>\n",
       "    <tr>\n",
       "      <th>1</th>\n",
       "      <td>170</td>\n",
       "      <td>25</td>\n",
       "      <td>2</td>\n",
       "      <td>0</td>\n",
       "      <td>0</td>\n",
       "      <td>0</td>\n",
       "      <td>130.50</td>\n",
       "      <td>0</td>\n",
       "      <td>0</td>\n",
       "      <td>Online TA</td>\n",
       "      <td>No Deposit</td>\n",
       "      <td>Transient</td>\n",
       "      <td>0</td>\n",
       "    </tr>\n",
       "    <tr>\n",
       "      <th>2</th>\n",
       "      <td>304</td>\n",
       "      <td>45</td>\n",
       "      <td>3</td>\n",
       "      <td>0</td>\n",
       "      <td>0</td>\n",
       "      <td>0</td>\n",
       "      <td>89.00</td>\n",
       "      <td>0</td>\n",
       "      <td>0</td>\n",
       "      <td>Offline TA/TO</td>\n",
       "      <td>Non Refund</td>\n",
       "      <td>Transient</td>\n",
       "      <td>1</td>\n",
       "    </tr>\n",
       "    <tr>\n",
       "      <th>3</th>\n",
       "      <td>19</td>\n",
       "      <td>7</td>\n",
       "      <td>1</td>\n",
       "      <td>0</td>\n",
       "      <td>0</td>\n",
       "      <td>0</td>\n",
       "      <td>82.13</td>\n",
       "      <td>0</td>\n",
       "      <td>2</td>\n",
       "      <td>Online TA</td>\n",
       "      <td>No Deposit</td>\n",
       "      <td>Transient</td>\n",
       "      <td>0</td>\n",
       "    </tr>\n",
       "    <tr>\n",
       "      <th>4</th>\n",
       "      <td>214</td>\n",
       "      <td>27</td>\n",
       "      <td>4</td>\n",
       "      <td>0</td>\n",
       "      <td>0</td>\n",
       "      <td>0</td>\n",
       "      <td>89.10</td>\n",
       "      <td>0</td>\n",
       "      <td>1</td>\n",
       "      <td>Direct</td>\n",
       "      <td>No Deposit</td>\n",
       "      <td>Transient-Party</td>\n",
       "      <td>0</td>\n",
       "    </tr>\n",
       "  </tbody>\n",
       "</table>\n",
       "</div>"
      ],
      "text/plain": [
       "   lead_time  arrival_week  duration  prev_cancel  booking_changes  \\\n",
       "0        245            13         5            0                0   \n",
       "1        170            25         2            0                0   \n",
       "2        304            45         3            0                0   \n",
       "3         19             7         1            0                0   \n",
       "4        214            27         4            0                0   \n",
       "\n",
       "   waiting_period  per_Day_price  parking  special_request        segment  \\\n",
       "0               0          78.26        0                2      Online TA   \n",
       "1               0         130.50        0                0      Online TA   \n",
       "2               0          89.00        0                0  Offline TA/TO   \n",
       "3               0          82.13        0                2      Online TA   \n",
       "4               0          89.10        0                1         Direct   \n",
       "\n",
       "           deposit        cust_type  is_cancelled  \n",
       "0  No Deposit             Transient             0  \n",
       "1  No Deposit             Transient             0  \n",
       "2  Non Refund             Transient             1  \n",
       "3  No Deposit             Transient             0  \n",
       "4  No Deposit       Transient-Party             0  "
      ]
     },
     "execution_count": 13,
     "metadata": {},
     "output_type": "execute_result"
    }
   ],
   "source": [
    "data.head()"
   ]
  },
  {
   "cell_type": "code",
   "execution_count": 14,
   "metadata": {},
   "outputs": [],
   "source": [
    "categorical = [\"segment\",\"deposit\",\"cust_type\"]"
   ]
  },
  {
   "cell_type": "code",
   "execution_count": 15,
   "metadata": {
    "scrolled": true
   },
   "outputs": [
    {
     "name": "stdout",
     "output_type": "stream",
     "text": [
      "['Online TA' 'Offline TA/TO' 'Direct' 'Groups' 'Corporate' 'Aviation'\n",
      " 'Complementary']\n",
      "\n",
      "['No Deposit     ' 'Non Refund     ' 'Refundable     ']\n",
      "\n",
      "['Transient' 'Transient-Party' 'Contract' 'Group']\n",
      "\n"
     ]
    }
   ],
   "source": [
    "for cat in categorical:\n",
    "    print(data[cat].unique())\n",
    "    print()"
   ]
  },
  {
   "cell_type": "code",
   "execution_count": 16,
   "metadata": {},
   "outputs": [],
   "source": [
    "for cat in categorical:\n",
    "    dummy = pd.get_dummies(data[cat], drop_first=True)\n",
    "    data[dummy.columns] = dummy\n",
    "\n",
    "data.drop(columns = categorical, inplace = True)\n",
    "    \n",
    "    "
   ]
  },
  {
   "cell_type": "code",
   "execution_count": 17,
   "metadata": {},
   "outputs": [
    {
     "data": {
      "text/html": [
       "<div>\n",
       "<style scoped>\n",
       "    .dataframe tbody tr th:only-of-type {\n",
       "        vertical-align: middle;\n",
       "    }\n",
       "\n",
       "    .dataframe tbody tr th {\n",
       "        vertical-align: top;\n",
       "    }\n",
       "\n",
       "    .dataframe thead th {\n",
       "        text-align: right;\n",
       "    }\n",
       "</style>\n",
       "<table border=\"1\" class=\"dataframe\">\n",
       "  <thead>\n",
       "    <tr style=\"text-align: right;\">\n",
       "      <th></th>\n",
       "      <th>lead_time</th>\n",
       "      <th>arrival_week</th>\n",
       "      <th>duration</th>\n",
       "      <th>prev_cancel</th>\n",
       "      <th>booking_changes</th>\n",
       "      <th>waiting_period</th>\n",
       "      <th>per_Day_price</th>\n",
       "      <th>parking</th>\n",
       "      <th>special_request</th>\n",
       "      <th>is_cancelled</th>\n",
       "      <th>Complementary</th>\n",
       "      <th>Corporate</th>\n",
       "      <th>Direct</th>\n",
       "      <th>Groups</th>\n",
       "      <th>Offline TA/TO</th>\n",
       "      <th>Online TA</th>\n",
       "      <th>Non Refund</th>\n",
       "      <th>Refundable</th>\n",
       "      <th>Group</th>\n",
       "      <th>Transient</th>\n",
       "      <th>Transient-Party</th>\n",
       "    </tr>\n",
       "  </thead>\n",
       "  <tbody>\n",
       "    <tr>\n",
       "      <th>0</th>\n",
       "      <td>245</td>\n",
       "      <td>13</td>\n",
       "      <td>5</td>\n",
       "      <td>0</td>\n",
       "      <td>0</td>\n",
       "      <td>0</td>\n",
       "      <td>78.26</td>\n",
       "      <td>0</td>\n",
       "      <td>2</td>\n",
       "      <td>0</td>\n",
       "      <td>0</td>\n",
       "      <td>0</td>\n",
       "      <td>0</td>\n",
       "      <td>0</td>\n",
       "      <td>0</td>\n",
       "      <td>1</td>\n",
       "      <td>0</td>\n",
       "      <td>0</td>\n",
       "      <td>0</td>\n",
       "      <td>1</td>\n",
       "      <td>0</td>\n",
       "    </tr>\n",
       "    <tr>\n",
       "      <th>1</th>\n",
       "      <td>170</td>\n",
       "      <td>25</td>\n",
       "      <td>2</td>\n",
       "      <td>0</td>\n",
       "      <td>0</td>\n",
       "      <td>0</td>\n",
       "      <td>130.50</td>\n",
       "      <td>0</td>\n",
       "      <td>0</td>\n",
       "      <td>0</td>\n",
       "      <td>0</td>\n",
       "      <td>0</td>\n",
       "      <td>0</td>\n",
       "      <td>0</td>\n",
       "      <td>0</td>\n",
       "      <td>1</td>\n",
       "      <td>0</td>\n",
       "      <td>0</td>\n",
       "      <td>0</td>\n",
       "      <td>1</td>\n",
       "      <td>0</td>\n",
       "    </tr>\n",
       "    <tr>\n",
       "      <th>2</th>\n",
       "      <td>304</td>\n",
       "      <td>45</td>\n",
       "      <td>3</td>\n",
       "      <td>0</td>\n",
       "      <td>0</td>\n",
       "      <td>0</td>\n",
       "      <td>89.00</td>\n",
       "      <td>0</td>\n",
       "      <td>0</td>\n",
       "      <td>1</td>\n",
       "      <td>0</td>\n",
       "      <td>0</td>\n",
       "      <td>0</td>\n",
       "      <td>0</td>\n",
       "      <td>1</td>\n",
       "      <td>0</td>\n",
       "      <td>1</td>\n",
       "      <td>0</td>\n",
       "      <td>0</td>\n",
       "      <td>1</td>\n",
       "      <td>0</td>\n",
       "    </tr>\n",
       "    <tr>\n",
       "      <th>3</th>\n",
       "      <td>19</td>\n",
       "      <td>7</td>\n",
       "      <td>1</td>\n",
       "      <td>0</td>\n",
       "      <td>0</td>\n",
       "      <td>0</td>\n",
       "      <td>82.13</td>\n",
       "      <td>0</td>\n",
       "      <td>2</td>\n",
       "      <td>0</td>\n",
       "      <td>0</td>\n",
       "      <td>0</td>\n",
       "      <td>0</td>\n",
       "      <td>0</td>\n",
       "      <td>0</td>\n",
       "      <td>1</td>\n",
       "      <td>0</td>\n",
       "      <td>0</td>\n",
       "      <td>0</td>\n",
       "      <td>1</td>\n",
       "      <td>0</td>\n",
       "    </tr>\n",
       "    <tr>\n",
       "      <th>4</th>\n",
       "      <td>214</td>\n",
       "      <td>27</td>\n",
       "      <td>4</td>\n",
       "      <td>0</td>\n",
       "      <td>0</td>\n",
       "      <td>0</td>\n",
       "      <td>89.10</td>\n",
       "      <td>0</td>\n",
       "      <td>1</td>\n",
       "      <td>0</td>\n",
       "      <td>0</td>\n",
       "      <td>0</td>\n",
       "      <td>1</td>\n",
       "      <td>0</td>\n",
       "      <td>0</td>\n",
       "      <td>0</td>\n",
       "      <td>0</td>\n",
       "      <td>0</td>\n",
       "      <td>0</td>\n",
       "      <td>0</td>\n",
       "      <td>1</td>\n",
       "    </tr>\n",
       "    <tr>\n",
       "      <th>...</th>\n",
       "      <td>...</td>\n",
       "      <td>...</td>\n",
       "      <td>...</td>\n",
       "      <td>...</td>\n",
       "      <td>...</td>\n",
       "      <td>...</td>\n",
       "      <td>...</td>\n",
       "      <td>...</td>\n",
       "      <td>...</td>\n",
       "      <td>...</td>\n",
       "      <td>...</td>\n",
       "      <td>...</td>\n",
       "      <td>...</td>\n",
       "      <td>...</td>\n",
       "      <td>...</td>\n",
       "      <td>...</td>\n",
       "      <td>...</td>\n",
       "      <td>...</td>\n",
       "      <td>...</td>\n",
       "      <td>...</td>\n",
       "      <td>...</td>\n",
       "    </tr>\n",
       "    <tr>\n",
       "      <th>2995</th>\n",
       "      <td>245</td>\n",
       "      <td>28</td>\n",
       "      <td>4</td>\n",
       "      <td>0</td>\n",
       "      <td>0</td>\n",
       "      <td>0</td>\n",
       "      <td>110.00</td>\n",
       "      <td>0</td>\n",
       "      <td>0</td>\n",
       "      <td>1</td>\n",
       "      <td>0</td>\n",
       "      <td>0</td>\n",
       "      <td>0</td>\n",
       "      <td>0</td>\n",
       "      <td>1</td>\n",
       "      <td>0</td>\n",
       "      <td>1</td>\n",
       "      <td>0</td>\n",
       "      <td>0</td>\n",
       "      <td>1</td>\n",
       "      <td>0</td>\n",
       "    </tr>\n",
       "    <tr>\n",
       "      <th>2996</th>\n",
       "      <td>2</td>\n",
       "      <td>17</td>\n",
       "      <td>3</td>\n",
       "      <td>0</td>\n",
       "      <td>0</td>\n",
       "      <td>0</td>\n",
       "      <td>95.00</td>\n",
       "      <td>0</td>\n",
       "      <td>0</td>\n",
       "      <td>0</td>\n",
       "      <td>0</td>\n",
       "      <td>0</td>\n",
       "      <td>0</td>\n",
       "      <td>0</td>\n",
       "      <td>1</td>\n",
       "      <td>0</td>\n",
       "      <td>0</td>\n",
       "      <td>0</td>\n",
       "      <td>0</td>\n",
       "      <td>1</td>\n",
       "      <td>0</td>\n",
       "    </tr>\n",
       "    <tr>\n",
       "      <th>2997</th>\n",
       "      <td>68</td>\n",
       "      <td>37</td>\n",
       "      <td>0</td>\n",
       "      <td>0</td>\n",
       "      <td>1</td>\n",
       "      <td>0</td>\n",
       "      <td>87.30</td>\n",
       "      <td>0</td>\n",
       "      <td>2</td>\n",
       "      <td>0</td>\n",
       "      <td>0</td>\n",
       "      <td>0</td>\n",
       "      <td>0</td>\n",
       "      <td>0</td>\n",
       "      <td>0</td>\n",
       "      <td>1</td>\n",
       "      <td>0</td>\n",
       "      <td>0</td>\n",
       "      <td>0</td>\n",
       "      <td>1</td>\n",
       "      <td>0</td>\n",
       "    </tr>\n",
       "    <tr>\n",
       "      <th>2998</th>\n",
       "      <td>197</td>\n",
       "      <td>52</td>\n",
       "      <td>4</td>\n",
       "      <td>0</td>\n",
       "      <td>2</td>\n",
       "      <td>0</td>\n",
       "      <td>113.40</td>\n",
       "      <td>0</td>\n",
       "      <td>0</td>\n",
       "      <td>0</td>\n",
       "      <td>0</td>\n",
       "      <td>0</td>\n",
       "      <td>0</td>\n",
       "      <td>0</td>\n",
       "      <td>1</td>\n",
       "      <td>0</td>\n",
       "      <td>0</td>\n",
       "      <td>0</td>\n",
       "      <td>0</td>\n",
       "      <td>0</td>\n",
       "      <td>1</td>\n",
       "    </tr>\n",
       "    <tr>\n",
       "      <th>2999</th>\n",
       "      <td>201</td>\n",
       "      <td>29</td>\n",
       "      <td>2</td>\n",
       "      <td>0</td>\n",
       "      <td>0</td>\n",
       "      <td>0</td>\n",
       "      <td>129.58</td>\n",
       "      <td>0</td>\n",
       "      <td>1</td>\n",
       "      <td>0</td>\n",
       "      <td>0</td>\n",
       "      <td>0</td>\n",
       "      <td>0</td>\n",
       "      <td>0</td>\n",
       "      <td>0</td>\n",
       "      <td>1</td>\n",
       "      <td>0</td>\n",
       "      <td>0</td>\n",
       "      <td>0</td>\n",
       "      <td>1</td>\n",
       "      <td>0</td>\n",
       "    </tr>\n",
       "  </tbody>\n",
       "</table>\n",
       "<p>3000 rows × 21 columns</p>\n",
       "</div>"
      ],
      "text/plain": [
       "      lead_time  arrival_week  duration  prev_cancel  booking_changes  \\\n",
       "0           245            13         5            0                0   \n",
       "1           170            25         2            0                0   \n",
       "2           304            45         3            0                0   \n",
       "3            19             7         1            0                0   \n",
       "4           214            27         4            0                0   \n",
       "...         ...           ...       ...          ...              ...   \n",
       "2995        245            28         4            0                0   \n",
       "2996          2            17         3            0                0   \n",
       "2997         68            37         0            0                1   \n",
       "2998        197            52         4            0                2   \n",
       "2999        201            29         2            0                0   \n",
       "\n",
       "      waiting_period  per_Day_price  parking  special_request  is_cancelled  \\\n",
       "0                  0          78.26        0                2             0   \n",
       "1                  0         130.50        0                0             0   \n",
       "2                  0          89.00        0                0             1   \n",
       "3                  0          82.13        0                2             0   \n",
       "4                  0          89.10        0                1             0   \n",
       "...              ...            ...      ...              ...           ...   \n",
       "2995               0         110.00        0                0             1   \n",
       "2996               0          95.00        0                0             0   \n",
       "2997               0          87.30        0                2             0   \n",
       "2998               0         113.40        0                0             0   \n",
       "2999               0         129.58        0                1             0   \n",
       "\n",
       "      Complementary  Corporate  Direct  Groups  Offline TA/TO  Online TA  \\\n",
       "0                 0          0       0       0              0          1   \n",
       "1                 0          0       0       0              0          1   \n",
       "2                 0          0       0       0              1          0   \n",
       "3                 0          0       0       0              0          1   \n",
       "4                 0          0       1       0              0          0   \n",
       "...             ...        ...     ...     ...            ...        ...   \n",
       "2995              0          0       0       0              1          0   \n",
       "2996              0          0       0       0              1          0   \n",
       "2997              0          0       0       0              0          1   \n",
       "2998              0          0       0       0              1          0   \n",
       "2999              0          0       0       0              0          1   \n",
       "\n",
       "      Non Refund       Refundable       Group  Transient  Transient-Party  \n",
       "0                   0                0      0          1                0  \n",
       "1                   0                0      0          1                0  \n",
       "2                   1                0      0          1                0  \n",
       "3                   0                0      0          1                0  \n",
       "4                   0                0      0          0                1  \n",
       "...               ...              ...    ...        ...              ...  \n",
       "2995                1                0      0          1                0  \n",
       "2996                0                0      0          1                0  \n",
       "2997                0                0      0          1                0  \n",
       "2998                0                0      0          0                1  \n",
       "2999                0                0      0          1                0  \n",
       "\n",
       "[3000 rows x 21 columns]"
      ]
     },
     "execution_count": 17,
     "metadata": {},
     "output_type": "execute_result"
    }
   ],
   "source": [
    "data"
   ]
  },
  {
   "cell_type": "code",
   "execution_count": null,
   "metadata": {},
   "outputs": [],
   "source": []
  },
  {
   "cell_type": "markdown",
   "metadata": {
    "colab": {},
    "colab_type": "code",
    "id": "C0I2lsH-NNQP"
   },
   "source": [
    "### Exploratory Data Analysis"
   ]
  },
  {
   "cell_type": "code",
   "execution_count": 18,
   "metadata": {},
   "outputs": [
    {
     "data": {
      "text/html": [
       "<div>\n",
       "<style scoped>\n",
       "    .dataframe tbody tr th:only-of-type {\n",
       "        vertical-align: middle;\n",
       "    }\n",
       "\n",
       "    .dataframe tbody tr th {\n",
       "        vertical-align: top;\n",
       "    }\n",
       "\n",
       "    .dataframe thead th {\n",
       "        text-align: right;\n",
       "    }\n",
       "</style>\n",
       "<table border=\"1\" class=\"dataframe\">\n",
       "  <thead>\n",
       "    <tr style=\"text-align: right;\">\n",
       "      <th></th>\n",
       "      <th>lead_time</th>\n",
       "      <th>arrival_week</th>\n",
       "      <th>duration</th>\n",
       "      <th>prev_cancel</th>\n",
       "      <th>booking_changes</th>\n",
       "      <th>waiting_period</th>\n",
       "      <th>per_Day_price</th>\n",
       "      <th>parking</th>\n",
       "      <th>special_request</th>\n",
       "      <th>segment</th>\n",
       "      <th>deposit</th>\n",
       "      <th>cust_type</th>\n",
       "      <th>is_cancelled</th>\n",
       "    </tr>\n",
       "  </thead>\n",
       "  <tbody>\n",
       "    <tr>\n",
       "      <th>0</th>\n",
       "      <td>245</td>\n",
       "      <td>13</td>\n",
       "      <td>5</td>\n",
       "      <td>0</td>\n",
       "      <td>0</td>\n",
       "      <td>0</td>\n",
       "      <td>78.26</td>\n",
       "      <td>0</td>\n",
       "      <td>2</td>\n",
       "      <td>Online TA</td>\n",
       "      <td>No Deposit</td>\n",
       "      <td>Transient</td>\n",
       "      <td>0</td>\n",
       "    </tr>\n",
       "    <tr>\n",
       "      <th>1</th>\n",
       "      <td>170</td>\n",
       "      <td>25</td>\n",
       "      <td>2</td>\n",
       "      <td>0</td>\n",
       "      <td>0</td>\n",
       "      <td>0</td>\n",
       "      <td>130.50</td>\n",
       "      <td>0</td>\n",
       "      <td>0</td>\n",
       "      <td>Online TA</td>\n",
       "      <td>No Deposit</td>\n",
       "      <td>Transient</td>\n",
       "      <td>0</td>\n",
       "    </tr>\n",
       "    <tr>\n",
       "      <th>2</th>\n",
       "      <td>304</td>\n",
       "      <td>45</td>\n",
       "      <td>3</td>\n",
       "      <td>0</td>\n",
       "      <td>0</td>\n",
       "      <td>0</td>\n",
       "      <td>89.00</td>\n",
       "      <td>0</td>\n",
       "      <td>0</td>\n",
       "      <td>Offline TA/TO</td>\n",
       "      <td>Non Refund</td>\n",
       "      <td>Transient</td>\n",
       "      <td>1</td>\n",
       "    </tr>\n",
       "    <tr>\n",
       "      <th>3</th>\n",
       "      <td>19</td>\n",
       "      <td>7</td>\n",
       "      <td>1</td>\n",
       "      <td>0</td>\n",
       "      <td>0</td>\n",
       "      <td>0</td>\n",
       "      <td>82.13</td>\n",
       "      <td>0</td>\n",
       "      <td>2</td>\n",
       "      <td>Online TA</td>\n",
       "      <td>No Deposit</td>\n",
       "      <td>Transient</td>\n",
       "      <td>0</td>\n",
       "    </tr>\n",
       "    <tr>\n",
       "      <th>4</th>\n",
       "      <td>214</td>\n",
       "      <td>27</td>\n",
       "      <td>4</td>\n",
       "      <td>0</td>\n",
       "      <td>0</td>\n",
       "      <td>0</td>\n",
       "      <td>89.10</td>\n",
       "      <td>0</td>\n",
       "      <td>1</td>\n",
       "      <td>Direct</td>\n",
       "      <td>No Deposit</td>\n",
       "      <td>Transient-Party</td>\n",
       "      <td>0</td>\n",
       "    </tr>\n",
       "    <tr>\n",
       "      <th>...</th>\n",
       "      <td>...</td>\n",
       "      <td>...</td>\n",
       "      <td>...</td>\n",
       "      <td>...</td>\n",
       "      <td>...</td>\n",
       "      <td>...</td>\n",
       "      <td>...</td>\n",
       "      <td>...</td>\n",
       "      <td>...</td>\n",
       "      <td>...</td>\n",
       "      <td>...</td>\n",
       "      <td>...</td>\n",
       "      <td>...</td>\n",
       "    </tr>\n",
       "    <tr>\n",
       "      <th>2995</th>\n",
       "      <td>245</td>\n",
       "      <td>28</td>\n",
       "      <td>4</td>\n",
       "      <td>0</td>\n",
       "      <td>0</td>\n",
       "      <td>0</td>\n",
       "      <td>110.00</td>\n",
       "      <td>0</td>\n",
       "      <td>0</td>\n",
       "      <td>Offline TA/TO</td>\n",
       "      <td>Non Refund</td>\n",
       "      <td>Transient</td>\n",
       "      <td>1</td>\n",
       "    </tr>\n",
       "    <tr>\n",
       "      <th>2996</th>\n",
       "      <td>2</td>\n",
       "      <td>17</td>\n",
       "      <td>3</td>\n",
       "      <td>0</td>\n",
       "      <td>0</td>\n",
       "      <td>0</td>\n",
       "      <td>95.00</td>\n",
       "      <td>0</td>\n",
       "      <td>0</td>\n",
       "      <td>Offline TA/TO</td>\n",
       "      <td>No Deposit</td>\n",
       "      <td>Transient</td>\n",
       "      <td>0</td>\n",
       "    </tr>\n",
       "    <tr>\n",
       "      <th>2997</th>\n",
       "      <td>68</td>\n",
       "      <td>37</td>\n",
       "      <td>0</td>\n",
       "      <td>0</td>\n",
       "      <td>1</td>\n",
       "      <td>0</td>\n",
       "      <td>87.30</td>\n",
       "      <td>0</td>\n",
       "      <td>2</td>\n",
       "      <td>Online TA</td>\n",
       "      <td>No Deposit</td>\n",
       "      <td>Transient</td>\n",
       "      <td>0</td>\n",
       "    </tr>\n",
       "    <tr>\n",
       "      <th>2998</th>\n",
       "      <td>197</td>\n",
       "      <td>52</td>\n",
       "      <td>4</td>\n",
       "      <td>0</td>\n",
       "      <td>2</td>\n",
       "      <td>0</td>\n",
       "      <td>113.40</td>\n",
       "      <td>0</td>\n",
       "      <td>0</td>\n",
       "      <td>Offline TA/TO</td>\n",
       "      <td>No Deposit</td>\n",
       "      <td>Transient-Party</td>\n",
       "      <td>0</td>\n",
       "    </tr>\n",
       "    <tr>\n",
       "      <th>2999</th>\n",
       "      <td>201</td>\n",
       "      <td>29</td>\n",
       "      <td>2</td>\n",
       "      <td>0</td>\n",
       "      <td>0</td>\n",
       "      <td>0</td>\n",
       "      <td>129.58</td>\n",
       "      <td>0</td>\n",
       "      <td>1</td>\n",
       "      <td>Online TA</td>\n",
       "      <td>No Deposit</td>\n",
       "      <td>Transient</td>\n",
       "      <td>0</td>\n",
       "    </tr>\n",
       "  </tbody>\n",
       "</table>\n",
       "<p>3000 rows × 13 columns</p>\n",
       "</div>"
      ],
      "text/plain": [
       "      lead_time  arrival_week  duration  prev_cancel  booking_changes  \\\n",
       "0           245            13         5            0                0   \n",
       "1           170            25         2            0                0   \n",
       "2           304            45         3            0                0   \n",
       "3            19             7         1            0                0   \n",
       "4           214            27         4            0                0   \n",
       "...         ...           ...       ...          ...              ...   \n",
       "2995        245            28         4            0                0   \n",
       "2996          2            17         3            0                0   \n",
       "2997         68            37         0            0                1   \n",
       "2998        197            52         4            0                2   \n",
       "2999        201            29         2            0                0   \n",
       "\n",
       "      waiting_period  per_Day_price  parking  special_request        segment  \\\n",
       "0                  0          78.26        0                2      Online TA   \n",
       "1                  0         130.50        0                0      Online TA   \n",
       "2                  0          89.00        0                0  Offline TA/TO   \n",
       "3                  0          82.13        0                2      Online TA   \n",
       "4                  0          89.10        0                1         Direct   \n",
       "...              ...            ...      ...              ...            ...   \n",
       "2995               0         110.00        0                0  Offline TA/TO   \n",
       "2996               0          95.00        0                0  Offline TA/TO   \n",
       "2997               0          87.30        0                2      Online TA   \n",
       "2998               0         113.40        0                0  Offline TA/TO   \n",
       "2999               0         129.58        0                1      Online TA   \n",
       "\n",
       "              deposit        cust_type  is_cancelled  \n",
       "0     No Deposit             Transient             0  \n",
       "1     No Deposit             Transient             0  \n",
       "2     Non Refund             Transient             1  \n",
       "3     No Deposit             Transient             0  \n",
       "4     No Deposit       Transient-Party             0  \n",
       "...               ...              ...           ...  \n",
       "2995  Non Refund             Transient             1  \n",
       "2996  No Deposit             Transient             0  \n",
       "2997  No Deposit             Transient             0  \n",
       "2998  No Deposit       Transient-Party             0  \n",
       "2999  No Deposit             Transient             0  \n",
       "\n",
       "[3000 rows x 13 columns]"
      ]
     },
     "execution_count": 18,
     "metadata": {},
     "output_type": "execute_result"
    }
   ],
   "source": [
    "raw_data"
   ]
  },
  {
   "cell_type": "markdown",
   "metadata": {},
   "source": [
    "#### Are data inbalanced?"
   ]
  },
  {
   "cell_type": "code",
   "execution_count": 19,
   "metadata": {},
   "outputs": [
    {
     "data": {
      "image/png": "[encoded data removed]",
      "text/plain": [
       "<Figure size 432x288 with 1 Axes>"
      ]
     },
     "metadata": {
      "needs_background": "light"
     },
     "output_type": "display_data"
    }
   ],
   "source": [
    "# plotting bar to check inbalance\n",
    "\n",
    "sns.countplot(x=\"is_cancelled\" , data= raw_data)\n",
    "plt.show()\n",
    "\n"
   ]
  },
  {
   "cell_type": "markdown",
   "metadata": {},
   "source": [
    "Looks nearly balanced. Not bad"
   ]
  },
  {
   "cell_type": "code",
   "execution_count": null,
   "metadata": {},
   "outputs": [],
   "source": []
  },
  {
   "cell_type": "markdown",
   "metadata": {},
   "source": [
    "#### Trying to see how categorical data represented"
   ]
  },
  {
   "cell_type": "code",
   "execution_count": 20,
   "metadata": {},
   "outputs": [
    {
     "data": {
      "image/png": "[encoded data removed]",
      "text/plain": [
       "<Figure size 576x432 with 1 Axes>"
      ]
     },
     "metadata": {
      "needs_background": "light"
     },
     "output_type": "display_data"
    }
   ],
   "source": [
    "#barplot\n",
    "df = raw_data[categorical].copy()\n",
    "df = df.melt(value_vars=df.columns)\n",
    "\n",
    "fig, ax = plt.subplots(figsize=(8, 6))\n",
    "sns.countplot(data=df, x='variable', hue='value',palette=\"dark\",ax=ax )\n",
    "plt.legend(bbox_to_anchor=(1.05, 1), loc=2)\n",
    "plt.xlabel(\"Categories\")\n",
    "plt.show()"
   ]
  },
  {
   "cell_type": "markdown",
   "metadata": {},
   "source": [
    "There are very small number of occurrence in categories.<br>\n",
    "Segment: Aviation,Complementary<br>\n",
    "Deposit: Refundable<br>\n",
    "Cust_type: Gruop<br>"
   ]
  },
  {
   "cell_type": "markdown",
   "metadata": {},
   "source": [
    "#### Heatmap to see correlation between features"
   ]
  },
  {
   "cell_type": "code",
   "execution_count": 21,
   "metadata": {},
   "outputs": [
    {
     "data": {
      "image/png": "[encoded data removed]",
      "text/plain": [
       "<Figure size 720x504 with 2 Axes>"
      ]
     },
     "metadata": {
      "needs_background": "light"
     },
     "output_type": "display_data"
    }
   ],
   "source": [
    "fig,ax = plt.subplots(figsize=(10,7))\n",
    "sns.heatmap(raw_data.corr(),annot=True, ax = ax)\n",
    "plt.show()"
   ]
  },
  {
   "cell_type": "markdown",
   "metadata": {},
   "source": [
    "So there is no multicolinearity between features, that's good.<br><br>\n",
    "Most correalted features with target variables are:<br>\n",
    "Negative: special_request,parking,booking_changes. Other negatives are very close to 0.<br>\n",
    "Positive: lead_time,prev_cancel. Other positives are very close to 0."
   ]
  },
  {
   "cell_type": "markdown",
   "metadata": {},
   "source": [
    "#### Comparison of target feature ( 1-cancelled  0- not )"
   ]
  },
  {
   "cell_type": "markdown",
   "metadata": {},
   "source": [
    "##### booking duration"
   ]
  },
  {
   "cell_type": "code",
   "execution_count": 22,
   "metadata": {},
   "outputs": [
    {
     "data": {
      "image/png": "[encoded data removed]",
      "text/plain": [
       "<Figure size 864x576 with 4 Axes>"
      ]
     },
     "metadata": {
      "needs_background": "light"
     },
     "output_type": "display_data"
    }
   ],
   "source": [
    "\n",
    "fig,ax = plt.subplots( ncols = 2, nrows=2, figsize=(12,8) )\n",
    "#ax[1,1].remove()\n",
    "\n",
    "for i in range(2):\n",
    "    canceled = raw_data[raw_data[\"is_cancelled\"] == i ]\n",
    "    booking_days = canceled[\"duration\"].value_counts().sort_index()    \n",
    "    #bar plot\n",
    "    sns.barplot( x = booking_days.index, y= booking_days.values/np.sum(booking_days.values), ax= ax[0,i],palette=\"dark\" )\n",
    "    ax[0,i].set_xlabel(f\"Booking Duration(cancelled = {i})\")\n",
    "    ax[0,i].set_ylabel(\"Guests %\")\n",
    "\n",
    "    \n",
    "# Hist plot\n",
    "sns.histplot( raw_data[\"duration\"], ax=ax[1,0] , stat=\"probability\",kde=True,color=\"blue\" )\n",
    "ax[1,0].set_title(\"Distribution of Booking Duration\")\n",
    "\n",
    "#box plot\n",
    "sns.boxplot( y=\"is_cancelled\", x =\"duration\" ,data=raw_data, ax=ax[1,1], orient=\"h\" )\n",
    "ax[1,1].set_title(\"IQR and Outliers\")\n",
    "\n",
    "\n",
    "fig.suptitle('Duration Of Booking', fontsize=16)\n",
    "plt.tight_layout()\n",
    "\n",
    "# center second row\n",
    "#box = ax[1,0].get_position()\n",
    "#box.x0 = box.x0 + 0.25\n",
    "#box.x1 = box.x1 + 0.25\n",
    "#ax[1,0].set_position(box)\n",
    "\n",
    "\n",
    "plt.show()\n",
    "\n",
    "\n"
   ]
  },
  {
   "cell_type": "markdown",
   "metadata": {},
   "source": [
    "As we can see in bar plot most of the guests in both cases( Cancelled = 0 and 1) booking around 1-3 days.<br><br>\n",
    "\n",
    "Distribution is right skewed, so there are some outliers.<br><br>\n",
    "\n",
    "It also look that , there is no relation between target variable and duration(in correlaton heatmap we also can see that)."
   ]
  },
  {
   "cell_type": "code",
   "execution_count": null,
   "metadata": {},
   "outputs": [],
   "source": [
    "\n"
   ]
  },
  {
   "cell_type": "markdown",
   "metadata": {},
   "source": [
    "##### Per day price "
   ]
  },
  {
   "cell_type": "code",
   "execution_count": 23,
   "metadata": {},
   "outputs": [
    {
     "data": {
      "image/png": "[encoded data removed]",
      "text/plain": [
       "<Figure size 792x360 with 2 Axes>"
      ]
     },
     "metadata": {
      "needs_background": "light"
     },
     "output_type": "display_data"
    }
   ],
   "source": [
    "fig,ax = plt.subplots( ncols=2,nrows=1, figsize=(11,5) )\n",
    "\n",
    "sns.boxplot( y=\"per_Day_price\",x=\"is_cancelled\"   ,data=raw_data,ax=ax[0] )\n",
    "sns.kdeplot(  raw_data[\"per_Day_price\"] ,ax=ax[1])\n",
    "\n",
    "plt.tight_layout()\n",
    "plt.show()"
   ]
  },
  {
   "cell_type": "markdown",
   "metadata": {},
   "source": [
    "As we saw in correlation map, there is very low correlation between target(is_cancelled) and per_Day_price.There are also outliers.<br>\n",
    "Distribution looks nearly normal. But a bit skewed to the right.<br><br>\n",
    "\n",
    "\n",
    "We can also scale down later such features, if algorithm requires( for instance if algorith uses euclidian distance).\n",
    "\n"
   ]
  },
  {
   "cell_type": "code",
   "execution_count": 24,
   "metadata": {},
   "outputs": [
    {
     "data": {
      "text/html": [
       "<div>\n",
       "<style scoped>\n",
       "    .dataframe tbody tr th:only-of-type {\n",
       "        vertical-align: middle;\n",
       "    }\n",
       "\n",
       "    .dataframe tbody tr th {\n",
       "        vertical-align: top;\n",
       "    }\n",
       "\n",
       "    .dataframe thead th {\n",
       "        text-align: right;\n",
       "    }\n",
       "</style>\n",
       "<table border=\"1\" class=\"dataframe\">\n",
       "  <thead>\n",
       "    <tr style=\"text-align: right;\">\n",
       "      <th></th>\n",
       "      <th>lead_time</th>\n",
       "      <th>arrival_week</th>\n",
       "      <th>duration</th>\n",
       "      <th>prev_cancel</th>\n",
       "      <th>booking_changes</th>\n",
       "      <th>waiting_period</th>\n",
       "      <th>per_Day_price</th>\n",
       "      <th>parking</th>\n",
       "      <th>special_request</th>\n",
       "      <th>segment</th>\n",
       "      <th>deposit</th>\n",
       "      <th>cust_type</th>\n",
       "      <th>is_cancelled</th>\n",
       "    </tr>\n",
       "  </thead>\n",
       "  <tbody>\n",
       "    <tr>\n",
       "      <th>0</th>\n",
       "      <td>245</td>\n",
       "      <td>13</td>\n",
       "      <td>5</td>\n",
       "      <td>0</td>\n",
       "      <td>0</td>\n",
       "      <td>0</td>\n",
       "      <td>78.26</td>\n",
       "      <td>0</td>\n",
       "      <td>2</td>\n",
       "      <td>Online TA</td>\n",
       "      <td>No Deposit</td>\n",
       "      <td>Transient</td>\n",
       "      <td>0</td>\n",
       "    </tr>\n",
       "    <tr>\n",
       "      <th>1</th>\n",
       "      <td>170</td>\n",
       "      <td>25</td>\n",
       "      <td>2</td>\n",
       "      <td>0</td>\n",
       "      <td>0</td>\n",
       "      <td>0</td>\n",
       "      <td>130.50</td>\n",
       "      <td>0</td>\n",
       "      <td>0</td>\n",
       "      <td>Online TA</td>\n",
       "      <td>No Deposit</td>\n",
       "      <td>Transient</td>\n",
       "      <td>0</td>\n",
       "    </tr>\n",
       "    <tr>\n",
       "      <th>2</th>\n",
       "      <td>304</td>\n",
       "      <td>45</td>\n",
       "      <td>3</td>\n",
       "      <td>0</td>\n",
       "      <td>0</td>\n",
       "      <td>0</td>\n",
       "      <td>89.00</td>\n",
       "      <td>0</td>\n",
       "      <td>0</td>\n",
       "      <td>Offline TA/TO</td>\n",
       "      <td>Non Refund</td>\n",
       "      <td>Transient</td>\n",
       "      <td>1</td>\n",
       "    </tr>\n",
       "    <tr>\n",
       "      <th>3</th>\n",
       "      <td>19</td>\n",
       "      <td>7</td>\n",
       "      <td>1</td>\n",
       "      <td>0</td>\n",
       "      <td>0</td>\n",
       "      <td>0</td>\n",
       "      <td>82.13</td>\n",
       "      <td>0</td>\n",
       "      <td>2</td>\n",
       "      <td>Online TA</td>\n",
       "      <td>No Deposit</td>\n",
       "      <td>Transient</td>\n",
       "      <td>0</td>\n",
       "    </tr>\n",
       "    <tr>\n",
       "      <th>4</th>\n",
       "      <td>214</td>\n",
       "      <td>27</td>\n",
       "      <td>4</td>\n",
       "      <td>0</td>\n",
       "      <td>0</td>\n",
       "      <td>0</td>\n",
       "      <td>89.10</td>\n",
       "      <td>0</td>\n",
       "      <td>1</td>\n",
       "      <td>Direct</td>\n",
       "      <td>No Deposit</td>\n",
       "      <td>Transient-Party</td>\n",
       "      <td>0</td>\n",
       "    </tr>\n",
       "    <tr>\n",
       "      <th>...</th>\n",
       "      <td>...</td>\n",
       "      <td>...</td>\n",
       "      <td>...</td>\n",
       "      <td>...</td>\n",
       "      <td>...</td>\n",
       "      <td>...</td>\n",
       "      <td>...</td>\n",
       "      <td>...</td>\n",
       "      <td>...</td>\n",
       "      <td>...</td>\n",
       "      <td>...</td>\n",
       "      <td>...</td>\n",
       "      <td>...</td>\n",
       "    </tr>\n",
       "    <tr>\n",
       "      <th>2995</th>\n",
       "      <td>245</td>\n",
       "      <td>28</td>\n",
       "      <td>4</td>\n",
       "      <td>0</td>\n",
       "      <td>0</td>\n",
       "      <td>0</td>\n",
       "      <td>110.00</td>\n",
       "      <td>0</td>\n",
       "      <td>0</td>\n",
       "      <td>Offline TA/TO</td>\n",
       "      <td>Non Refund</td>\n",
       "      <td>Transient</td>\n",
       "      <td>1</td>\n",
       "    </tr>\n",
       "    <tr>\n",
       "      <th>2996</th>\n",
       "      <td>2</td>\n",
       "      <td>17</td>\n",
       "      <td>3</td>\n",
       "      <td>0</td>\n",
       "      <td>0</td>\n",
       "      <td>0</td>\n",
       "      <td>95.00</td>\n",
       "      <td>0</td>\n",
       "      <td>0</td>\n",
       "      <td>Offline TA/TO</td>\n",
       "      <td>No Deposit</td>\n",
       "      <td>Transient</td>\n",
       "      <td>0</td>\n",
       "    </tr>\n",
       "    <tr>\n",
       "      <th>2997</th>\n",
       "      <td>68</td>\n",
       "      <td>37</td>\n",
       "      <td>0</td>\n",
       "      <td>0</td>\n",
       "      <td>1</td>\n",
       "      <td>0</td>\n",
       "      <td>87.30</td>\n",
       "      <td>0</td>\n",
       "      <td>2</td>\n",
       "      <td>Online TA</td>\n",
       "      <td>No Deposit</td>\n",
       "      <td>Transient</td>\n",
       "      <td>0</td>\n",
       "    </tr>\n",
       "    <tr>\n",
       "      <th>2998</th>\n",
       "      <td>197</td>\n",
       "      <td>52</td>\n",
       "      <td>4</td>\n",
       "      <td>0</td>\n",
       "      <td>2</td>\n",
       "      <td>0</td>\n",
       "      <td>113.40</td>\n",
       "      <td>0</td>\n",
       "      <td>0</td>\n",
       "      <td>Offline TA/TO</td>\n",
       "      <td>No Deposit</td>\n",
       "      <td>Transient-Party</td>\n",
       "      <td>0</td>\n",
       "    </tr>\n",
       "    <tr>\n",
       "      <th>2999</th>\n",
       "      <td>201</td>\n",
       "      <td>29</td>\n",
       "      <td>2</td>\n",
       "      <td>0</td>\n",
       "      <td>0</td>\n",
       "      <td>0</td>\n",
       "      <td>129.58</td>\n",
       "      <td>0</td>\n",
       "      <td>1</td>\n",
       "      <td>Online TA</td>\n",
       "      <td>No Deposit</td>\n",
       "      <td>Transient</td>\n",
       "      <td>0</td>\n",
       "    </tr>\n",
       "  </tbody>\n",
       "</table>\n",
       "<p>3000 rows × 13 columns</p>\n",
       "</div>"
      ],
      "text/plain": [
       "      lead_time  arrival_week  duration  prev_cancel  booking_changes  \\\n",
       "0           245            13         5            0                0   \n",
       "1           170            25         2            0                0   \n",
       "2           304            45         3            0                0   \n",
       "3            19             7         1            0                0   \n",
       "4           214            27         4            0                0   \n",
       "...         ...           ...       ...          ...              ...   \n",
       "2995        245            28         4            0                0   \n",
       "2996          2            17         3            0                0   \n",
       "2997         68            37         0            0                1   \n",
       "2998        197            52         4            0                2   \n",
       "2999        201            29         2            0                0   \n",
       "\n",
       "      waiting_period  per_Day_price  parking  special_request        segment  \\\n",
       "0                  0          78.26        0                2      Online TA   \n",
       "1                  0         130.50        0                0      Online TA   \n",
       "2                  0          89.00        0                0  Offline TA/TO   \n",
       "3                  0          82.13        0                2      Online TA   \n",
       "4                  0          89.10        0                1         Direct   \n",
       "...              ...            ...      ...              ...            ...   \n",
       "2995               0         110.00        0                0  Offline TA/TO   \n",
       "2996               0          95.00        0                0  Offline TA/TO   \n",
       "2997               0          87.30        0                2      Online TA   \n",
       "2998               0         113.40        0                0  Offline TA/TO   \n",
       "2999               0         129.58        0                1      Online TA   \n",
       "\n",
       "              deposit        cust_type  is_cancelled  \n",
       "0     No Deposit             Transient             0  \n",
       "1     No Deposit             Transient             0  \n",
       "2     Non Refund             Transient             1  \n",
       "3     No Deposit             Transient             0  \n",
       "4     No Deposit       Transient-Party             0  \n",
       "...               ...              ...           ...  \n",
       "2995  Non Refund             Transient             1  \n",
       "2996  No Deposit             Transient             0  \n",
       "2997  No Deposit             Transient             0  \n",
       "2998  No Deposit       Transient-Party             0  \n",
       "2999  No Deposit             Transient             0  \n",
       "\n",
       "[3000 rows x 13 columns]"
      ]
     },
     "execution_count": 24,
     "metadata": {},
     "output_type": "execute_result"
    }
   ],
   "source": [
    "raw_data"
   ]
  },
  {
   "cell_type": "code",
   "execution_count": 25,
   "metadata": {},
   "outputs": [
    {
     "data": {
      "image/png": "[encoded data removed]",
      "text/plain": [
       "<Figure size 792x360 with 2 Axes>"
      ]
     },
     "metadata": {
      "needs_background": "light"
     },
     "output_type": "display_data"
    }
   ],
   "source": [
    "fig,ax = plt.subplots( ncols=2,nrows=1, figsize=(11,5) )\n",
    "\n",
    "sns.boxplot( y=\"arrival_week\",x=\"is_cancelled\"   ,data=raw_data,ax=ax[0] )\n",
    "sns.kdeplot(  raw_data[\"arrival_week\"] ,ax=ax[1])\n",
    "\n",
    "plt.tight_layout()\n",
    "plt.show()"
   ]
  },
  {
   "cell_type": "markdown",
   "metadata": {},
   "source": [
    "arrival_week doesn't have any outlier. Distribution looks very good, close to normal distribution."
   ]
  },
  {
   "cell_type": "code",
   "execution_count": null,
   "metadata": {},
   "outputs": [],
   "source": []
  },
  {
   "cell_type": "markdown",
   "metadata": {},
   "source": [
    "#### Features which positivly correlated with target"
   ]
  },
  {
   "cell_type": "code",
   "execution_count": 26,
   "metadata": {},
   "outputs": [
    {
     "data": {
      "image/png": "[encoded data removed]",
      "text/plain": [
       "<Figure size 792x504 with 4 Axes>"
      ]
     },
     "metadata": {
      "needs_background": "light"
     },
     "output_type": "display_data"
    }
   ],
   "source": [
    "raw_data[[\"lead_time\",\"prev_cancel\"]]\n",
    "# lead_time   prev_cancel\n",
    "\n",
    "fig,ax = plt.subplots( ncols=2,nrows=2, figsize=(11,7) )\n",
    "\n",
    "sns.boxplot( y=\"lead_time\",x=\"is_cancelled\" ,data=raw_data,ax=ax[0,0] )\n",
    "sns.kdeplot(  raw_data[\"lead_time\"] ,ax=ax[1,0])\n",
    "\n",
    "\n",
    "sns.countplot(data=raw_data, x='prev_cancel', hue='is_cancelled',palette=\"dark\",ax=ax[0,1] )\n",
    "\n",
    "\n",
    "for i,val in enumerate(sorted(raw_data[\"prev_cancel\"].unique())):\n",
    "    a = raw_data[ (raw_data[\"prev_cancel\"] == val)  & (raw_data[\"is_cancelled\"] ==0 ) ]\n",
    "    b = raw_data[ (raw_data[\"prev_cancel\"] == val)  & (raw_data[\"is_cancelled\"] ==1 ) ]\n",
    "    \n",
    "    ax[0,1].text( i-0.3 , a.shape[0] , a.shape[0] , fontsize=  9  )\n",
    "    ax[0,1].text( i+0.1 , b.shape[0] , b.shape[0] , fontsize=  9  )\n",
    "    \n",
    "    \n",
    "sns.kdeplot(  raw_data[\"prev_cancel\"] ,ax=ax[1,1])\n",
    "\n",
    "\n",
    "\n",
    "\n",
    "\n",
    "ax[0,1].legend( loc=\"upper right\")\n",
    "plt.tight_layout()\n",
    "plt.show()\n",
    "\n"
   ]
  },
  {
   "cell_type": "code",
   "execution_count": 27,
   "metadata": {},
   "outputs": [
    {
     "data": {
      "text/html": [
       "<div>\n",
       "<style scoped>\n",
       "    .dataframe tbody tr th:only-of-type {\n",
       "        vertical-align: middle;\n",
       "    }\n",
       "\n",
       "    .dataframe tbody tr th {\n",
       "        vertical-align: top;\n",
       "    }\n",
       "\n",
       "    .dataframe thead th {\n",
       "        text-align: right;\n",
       "    }\n",
       "</style>\n",
       "<table border=\"1\" class=\"dataframe\">\n",
       "  <thead>\n",
       "    <tr style=\"text-align: right;\">\n",
       "      <th></th>\n",
       "      <th>lead_time</th>\n",
       "      <th>arrival_week</th>\n",
       "      <th>duration</th>\n",
       "      <th>prev_cancel</th>\n",
       "      <th>booking_changes</th>\n",
       "      <th>waiting_period</th>\n",
       "      <th>per_Day_price</th>\n",
       "      <th>parking</th>\n",
       "      <th>special_request</th>\n",
       "      <th>segment</th>\n",
       "      <th>deposit</th>\n",
       "      <th>cust_type</th>\n",
       "      <th>is_cancelled</th>\n",
       "    </tr>\n",
       "  </thead>\n",
       "  <tbody>\n",
       "    <tr>\n",
       "      <th>0</th>\n",
       "      <td>245</td>\n",
       "      <td>13</td>\n",
       "      <td>5</td>\n",
       "      <td>0</td>\n",
       "      <td>0</td>\n",
       "      <td>0</td>\n",
       "      <td>78.26</td>\n",
       "      <td>0</td>\n",
       "      <td>2</td>\n",
       "      <td>Online TA</td>\n",
       "      <td>No Deposit</td>\n",
       "      <td>Transient</td>\n",
       "      <td>0</td>\n",
       "    </tr>\n",
       "    <tr>\n",
       "      <th>1</th>\n",
       "      <td>170</td>\n",
       "      <td>25</td>\n",
       "      <td>2</td>\n",
       "      <td>0</td>\n",
       "      <td>0</td>\n",
       "      <td>0</td>\n",
       "      <td>130.50</td>\n",
       "      <td>0</td>\n",
       "      <td>0</td>\n",
       "      <td>Online TA</td>\n",
       "      <td>No Deposit</td>\n",
       "      <td>Transient</td>\n",
       "      <td>0</td>\n",
       "    </tr>\n",
       "    <tr>\n",
       "      <th>2</th>\n",
       "      <td>304</td>\n",
       "      <td>45</td>\n",
       "      <td>3</td>\n",
       "      <td>0</td>\n",
       "      <td>0</td>\n",
       "      <td>0</td>\n",
       "      <td>89.00</td>\n",
       "      <td>0</td>\n",
       "      <td>0</td>\n",
       "      <td>Offline TA/TO</td>\n",
       "      <td>Non Refund</td>\n",
       "      <td>Transient</td>\n",
       "      <td>1</td>\n",
       "    </tr>\n",
       "    <tr>\n",
       "      <th>3</th>\n",
       "      <td>19</td>\n",
       "      <td>7</td>\n",
       "      <td>1</td>\n",
       "      <td>0</td>\n",
       "      <td>0</td>\n",
       "      <td>0</td>\n",
       "      <td>82.13</td>\n",
       "      <td>0</td>\n",
       "      <td>2</td>\n",
       "      <td>Online TA</td>\n",
       "      <td>No Deposit</td>\n",
       "      <td>Transient</td>\n",
       "      <td>0</td>\n",
       "    </tr>\n",
       "    <tr>\n",
       "      <th>4</th>\n",
       "      <td>214</td>\n",
       "      <td>27</td>\n",
       "      <td>4</td>\n",
       "      <td>0</td>\n",
       "      <td>0</td>\n",
       "      <td>0</td>\n",
       "      <td>89.10</td>\n",
       "      <td>0</td>\n",
       "      <td>1</td>\n",
       "      <td>Direct</td>\n",
       "      <td>No Deposit</td>\n",
       "      <td>Transient-Party</td>\n",
       "      <td>0</td>\n",
       "    </tr>\n",
       "    <tr>\n",
       "      <th>...</th>\n",
       "      <td>...</td>\n",
       "      <td>...</td>\n",
       "      <td>...</td>\n",
       "      <td>...</td>\n",
       "      <td>...</td>\n",
       "      <td>...</td>\n",
       "      <td>...</td>\n",
       "      <td>...</td>\n",
       "      <td>...</td>\n",
       "      <td>...</td>\n",
       "      <td>...</td>\n",
       "      <td>...</td>\n",
       "      <td>...</td>\n",
       "    </tr>\n",
       "    <tr>\n",
       "      <th>2995</th>\n",
       "      <td>245</td>\n",
       "      <td>28</td>\n",
       "      <td>4</td>\n",
       "      <td>0</td>\n",
       "      <td>0</td>\n",
       "      <td>0</td>\n",
       "      <td>110.00</td>\n",
       "      <td>0</td>\n",
       "      <td>0</td>\n",
       "      <td>Offline TA/TO</td>\n",
       "      <td>Non Refund</td>\n",
       "      <td>Transient</td>\n",
       "      <td>1</td>\n",
       "    </tr>\n",
       "    <tr>\n",
       "      <th>2996</th>\n",
       "      <td>2</td>\n",
       "      <td>17</td>\n",
       "      <td>3</td>\n",
       "      <td>0</td>\n",
       "      <td>0</td>\n",
       "      <td>0</td>\n",
       "      <td>95.00</td>\n",
       "      <td>0</td>\n",
       "      <td>0</td>\n",
       "      <td>Offline TA/TO</td>\n",
       "      <td>No Deposit</td>\n",
       "      <td>Transient</td>\n",
       "      <td>0</td>\n",
       "    </tr>\n",
       "    <tr>\n",
       "      <th>2997</th>\n",
       "      <td>68</td>\n",
       "      <td>37</td>\n",
       "      <td>0</td>\n",
       "      <td>0</td>\n",
       "      <td>1</td>\n",
       "      <td>0</td>\n",
       "      <td>87.30</td>\n",
       "      <td>0</td>\n",
       "      <td>2</td>\n",
       "      <td>Online TA</td>\n",
       "      <td>No Deposit</td>\n",
       "      <td>Transient</td>\n",
       "      <td>0</td>\n",
       "    </tr>\n",
       "    <tr>\n",
       "      <th>2998</th>\n",
       "      <td>197</td>\n",
       "      <td>52</td>\n",
       "      <td>4</td>\n",
       "      <td>0</td>\n",
       "      <td>2</td>\n",
       "      <td>0</td>\n",
       "      <td>113.40</td>\n",
       "      <td>0</td>\n",
       "      <td>0</td>\n",
       "      <td>Offline TA/TO</td>\n",
       "      <td>No Deposit</td>\n",
       "      <td>Transient-Party</td>\n",
       "      <td>0</td>\n",
       "    </tr>\n",
       "    <tr>\n",
       "      <th>2999</th>\n",
       "      <td>201</td>\n",
       "      <td>29</td>\n",
       "      <td>2</td>\n",
       "      <td>0</td>\n",
       "      <td>0</td>\n",
       "      <td>0</td>\n",
       "      <td>129.58</td>\n",
       "      <td>0</td>\n",
       "      <td>1</td>\n",
       "      <td>Online TA</td>\n",
       "      <td>No Deposit</td>\n",
       "      <td>Transient</td>\n",
       "      <td>0</td>\n",
       "    </tr>\n",
       "  </tbody>\n",
       "</table>\n",
       "<p>3000 rows × 13 columns</p>\n",
       "</div>"
      ],
      "text/plain": [
       "      lead_time  arrival_week  duration  prev_cancel  booking_changes  \\\n",
       "0           245            13         5            0                0   \n",
       "1           170            25         2            0                0   \n",
       "2           304            45         3            0                0   \n",
       "3            19             7         1            0                0   \n",
       "4           214            27         4            0                0   \n",
       "...         ...           ...       ...          ...              ...   \n",
       "2995        245            28         4            0                0   \n",
       "2996          2            17         3            0                0   \n",
       "2997         68            37         0            0                1   \n",
       "2998        197            52         4            0                2   \n",
       "2999        201            29         2            0                0   \n",
       "\n",
       "      waiting_period  per_Day_price  parking  special_request        segment  \\\n",
       "0                  0          78.26        0                2      Online TA   \n",
       "1                  0         130.50        0                0      Online TA   \n",
       "2                  0          89.00        0                0  Offline TA/TO   \n",
       "3                  0          82.13        0                2      Online TA   \n",
       "4                  0          89.10        0                1         Direct   \n",
       "...              ...            ...      ...              ...            ...   \n",
       "2995               0         110.00        0                0  Offline TA/TO   \n",
       "2996               0          95.00        0                0  Offline TA/TO   \n",
       "2997               0          87.30        0                2      Online TA   \n",
       "2998               0         113.40        0                0  Offline TA/TO   \n",
       "2999               0         129.58        0                1      Online TA   \n",
       "\n",
       "              deposit        cust_type  is_cancelled  \n",
       "0     No Deposit             Transient             0  \n",
       "1     No Deposit             Transient             0  \n",
       "2     Non Refund             Transient             1  \n",
       "3     No Deposit             Transient             0  \n",
       "4     No Deposit       Transient-Party             0  \n",
       "...               ...              ...           ...  \n",
       "2995  Non Refund             Transient             1  \n",
       "2996  No Deposit             Transient             0  \n",
       "2997  No Deposit             Transient             0  \n",
       "2998  No Deposit       Transient-Party             0  \n",
       "2999  No Deposit             Transient             0  \n",
       "\n",
       "[3000 rows x 13 columns]"
      ]
     },
     "execution_count": 27,
     "metadata": {},
     "output_type": "execute_result"
    }
   ],
   "source": [
    "raw_data"
   ]
  },
  {
   "cell_type": "markdown",
   "metadata": {},
   "source": [
    "#### Features which negativly correlated with target"
   ]
  },
  {
   "cell_type": "code",
   "execution_count": 28,
   "metadata": {},
   "outputs": [
    {
     "data": {
      "image/png": "[encoded data removed]",
      "text/plain": [
       "<Figure size 792x504 with 3 Axes>"
      ]
     },
     "metadata": {
      "needs_background": "light"
     },
     "output_type": "display_data"
    }
   ],
   "source": [
    "fig,ax = plt.subplots(nrows=3,ncols=1, figsize=(11,7))\n",
    "\n",
    "\n",
    "neg_corr = [\"special_request\",\"parking\",\"booking_changes\"]\n",
    "\n",
    "for i,val in enumerate(neg_corr):\n",
    "    sns.countplot(data=raw_data, x=val, hue='is_cancelled',palette=\"dark\",ax=ax[i] )\n",
    "    ax[i].legend( loc=\"upper right\")\n",
    "    \n",
    "    for j,unq in enumerate( sorted(raw_data[val].unique()) ):\n",
    "        a = raw_data[ (raw_data[val] == unq)  & (raw_data[\"is_cancelled\"] ==0 ) ]\n",
    "        b = raw_data[ (raw_data[val] == unq)  & (raw_data[\"is_cancelled\"] ==1 ) ]\n",
    "\n",
    "        ax[i].text( j-0.3 , a.shape[0] , a.shape[0] , fontsize=  9  )\n",
    "        ax[i].text( j+0.1 , b.shape[0] , b.shape[0] , fontsize=  9  )\n",
    "\n",
    "plt.tight_layout()\n",
    "plt.show()"
   ]
  },
  {
   "cell_type": "code",
   "execution_count": null,
   "metadata": {},
   "outputs": [],
   "source": []
  },
  {
   "cell_type": "markdown",
   "metadata": {},
   "source": [
    "#### Categorical features"
   ]
  },
  {
   "cell_type": "code",
   "execution_count": 29,
   "metadata": {},
   "outputs": [
    {
     "data": {
      "image/png": "[encoded data removed]",
      "text/plain": [
       "<Figure size 720x504 with 3 Axes>"
      ]
     },
     "metadata": {
      "needs_background": "light"
     },
     "output_type": "display_data"
    }
   ],
   "source": [
    "fig,ax = plt.subplots(ncols=1,nrows=len(categorical), figsize = (10,7))\n",
    "\n",
    "for i in range(len(categorical)): # num of cols\n",
    "        grouped = raw_data.groupby( categorical[i] )\n",
    "        meaned = grouped.mean()[\"is_cancelled\"]\n",
    "        sns.barplot(x=meaned.index, y = meaned.values, ax=ax[i])\n",
    "        \n",
    "        val_counts = meaned.values\n",
    "        \n",
    "        for val_counts_num in np.arange( len(val_counts) ):\n",
    "            val = val_counts[val_counts_num]\n",
    "            ax[i].text( val_counts_num-0.1 , val , round(val,3) , fontsize=  12  )\n",
    "\n",
    "plt.tight_layout()\n",
    "plt.show()"
   ]
  },
  {
   "cell_type": "markdown",
   "metadata": {},
   "source": [
    "In deposit category 'Non Refund' in 100% cases gives cancellation, but 'Refundable' in 100% cases gives booking without cancellation."
   ]
  },
  {
   "cell_type": "code",
   "execution_count": null,
   "metadata": {},
   "outputs": [],
   "source": []
  },
  {
   "cell_type": "code",
   "execution_count": null,
   "metadata": {},
   "outputs": [],
   "source": []
  },
  {
   "cell_type": "markdown",
   "metadata": {},
   "source": [
    "# Model Building"
   ]
  },
  {
   "cell_type": "code",
   "execution_count": 71,
   "metadata": {},
   "outputs": [],
   "source": [
    "from xgboost import XGBClassifier\n",
    "from sklearn.linear_model import LogisticRegression\n",
    "from sklearn.svm import SVC\n",
    "from sklearn.ensemble import RandomForestClassifier\n",
    "import xgboost as xgb\n",
    "\n",
    "from sklearn.model_selection import train_test_split, StratifiedKFold,GridSearchCV\n",
    "from sklearn.pipeline import make_pipeline,Pipeline\n",
    "from sklearn.preprocessing import StandardScaler\n",
    "from sklearn.metrics import classification_report,roc_auc_score\n",
    "\n",
    "seed=42"
   ]
  },
  {
   "cell_type": "code",
   "execution_count": 32,
   "metadata": {},
   "outputs": [
    {
     "data": {
      "text/html": [
       "<div>\n",
       "<style scoped>\n",
       "    .dataframe tbody tr th:only-of-type {\n",
       "        vertical-align: middle;\n",
       "    }\n",
       "\n",
       "    .dataframe tbody tr th {\n",
       "        vertical-align: top;\n",
       "    }\n",
       "\n",
       "    .dataframe thead th {\n",
       "        text-align: right;\n",
       "    }\n",
       "</style>\n",
       "<table border=\"1\" class=\"dataframe\">\n",
       "  <thead>\n",
       "    <tr style=\"text-align: right;\">\n",
       "      <th></th>\n",
       "      <th>lead_time</th>\n",
       "      <th>arrival_week</th>\n",
       "      <th>duration</th>\n",
       "      <th>prev_cancel</th>\n",
       "      <th>booking_changes</th>\n",
       "      <th>waiting_period</th>\n",
       "      <th>per_Day_price</th>\n",
       "      <th>parking</th>\n",
       "      <th>special_request</th>\n",
       "      <th>is_cancelled</th>\n",
       "      <th>Complementary</th>\n",
       "      <th>Corporate</th>\n",
       "      <th>Direct</th>\n",
       "      <th>Groups</th>\n",
       "      <th>Offline TA/TO</th>\n",
       "      <th>Online TA</th>\n",
       "      <th>Non Refund</th>\n",
       "      <th>Refundable</th>\n",
       "      <th>Group</th>\n",
       "      <th>Transient</th>\n",
       "      <th>Transient-Party</th>\n",
       "    </tr>\n",
       "  </thead>\n",
       "  <tbody>\n",
       "    <tr>\n",
       "      <th>0</th>\n",
       "      <td>245</td>\n",
       "      <td>13</td>\n",
       "      <td>5</td>\n",
       "      <td>0</td>\n",
       "      <td>0</td>\n",
       "      <td>0</td>\n",
       "      <td>78.26</td>\n",
       "      <td>0</td>\n",
       "      <td>2</td>\n",
       "      <td>0</td>\n",
       "      <td>0</td>\n",
       "      <td>0</td>\n",
       "      <td>0</td>\n",
       "      <td>0</td>\n",
       "      <td>0</td>\n",
       "      <td>1</td>\n",
       "      <td>0</td>\n",
       "      <td>0</td>\n",
       "      <td>0</td>\n",
       "      <td>1</td>\n",
       "      <td>0</td>\n",
       "    </tr>\n",
       "    <tr>\n",
       "      <th>1</th>\n",
       "      <td>170</td>\n",
       "      <td>25</td>\n",
       "      <td>2</td>\n",
       "      <td>0</td>\n",
       "      <td>0</td>\n",
       "      <td>0</td>\n",
       "      <td>130.50</td>\n",
       "      <td>0</td>\n",
       "      <td>0</td>\n",
       "      <td>0</td>\n",
       "      <td>0</td>\n",
       "      <td>0</td>\n",
       "      <td>0</td>\n",
       "      <td>0</td>\n",
       "      <td>0</td>\n",
       "      <td>1</td>\n",
       "      <td>0</td>\n",
       "      <td>0</td>\n",
       "      <td>0</td>\n",
       "      <td>1</td>\n",
       "      <td>0</td>\n",
       "    </tr>\n",
       "    <tr>\n",
       "      <th>2</th>\n",
       "      <td>304</td>\n",
       "      <td>45</td>\n",
       "      <td>3</td>\n",
       "      <td>0</td>\n",
       "      <td>0</td>\n",
       "      <td>0</td>\n",
       "      <td>89.00</td>\n",
       "      <td>0</td>\n",
       "      <td>0</td>\n",
       "      <td>1</td>\n",
       "      <td>0</td>\n",
       "      <td>0</td>\n",
       "      <td>0</td>\n",
       "      <td>0</td>\n",
       "      <td>1</td>\n",
       "      <td>0</td>\n",
       "      <td>1</td>\n",
       "      <td>0</td>\n",
       "      <td>0</td>\n",
       "      <td>1</td>\n",
       "      <td>0</td>\n",
       "    </tr>\n",
       "    <tr>\n",
       "      <th>3</th>\n",
       "      <td>19</td>\n",
       "      <td>7</td>\n",
       "      <td>1</td>\n",
       "      <td>0</td>\n",
       "      <td>0</td>\n",
       "      <td>0</td>\n",
       "      <td>82.13</td>\n",
       "      <td>0</td>\n",
       "      <td>2</td>\n",
       "      <td>0</td>\n",
       "      <td>0</td>\n",
       "      <td>0</td>\n",
       "      <td>0</td>\n",
       "      <td>0</td>\n",
       "      <td>0</td>\n",
       "      <td>1</td>\n",
       "      <td>0</td>\n",
       "      <td>0</td>\n",
       "      <td>0</td>\n",
       "      <td>1</td>\n",
       "      <td>0</td>\n",
       "    </tr>\n",
       "    <tr>\n",
       "      <th>4</th>\n",
       "      <td>214</td>\n",
       "      <td>27</td>\n",
       "      <td>4</td>\n",
       "      <td>0</td>\n",
       "      <td>0</td>\n",
       "      <td>0</td>\n",
       "      <td>89.10</td>\n",
       "      <td>0</td>\n",
       "      <td>1</td>\n",
       "      <td>0</td>\n",
       "      <td>0</td>\n",
       "      <td>0</td>\n",
       "      <td>1</td>\n",
       "      <td>0</td>\n",
       "      <td>0</td>\n",
       "      <td>0</td>\n",
       "      <td>0</td>\n",
       "      <td>0</td>\n",
       "      <td>0</td>\n",
       "      <td>0</td>\n",
       "      <td>1</td>\n",
       "    </tr>\n",
       "    <tr>\n",
       "      <th>...</th>\n",
       "      <td>...</td>\n",
       "      <td>...</td>\n",
       "      <td>...</td>\n",
       "      <td>...</td>\n",
       "      <td>...</td>\n",
       "      <td>...</td>\n",
       "      <td>...</td>\n",
       "      <td>...</td>\n",
       "      <td>...</td>\n",
       "      <td>...</td>\n",
       "      <td>...</td>\n",
       "      <td>...</td>\n",
       "      <td>...</td>\n",
       "      <td>...</td>\n",
       "      <td>...</td>\n",
       "      <td>...</td>\n",
       "      <td>...</td>\n",
       "      <td>...</td>\n",
       "      <td>...</td>\n",
       "      <td>...</td>\n",
       "      <td>...</td>\n",
       "    </tr>\n",
       "    <tr>\n",
       "      <th>2995</th>\n",
       "      <td>245</td>\n",
       "      <td>28</td>\n",
       "      <td>4</td>\n",
       "      <td>0</td>\n",
       "      <td>0</td>\n",
       "      <td>0</td>\n",
       "      <td>110.00</td>\n",
       "      <td>0</td>\n",
       "      <td>0</td>\n",
       "      <td>1</td>\n",
       "      <td>0</td>\n",
       "      <td>0</td>\n",
       "      <td>0</td>\n",
       "      <td>0</td>\n",
       "      <td>1</td>\n",
       "      <td>0</td>\n",
       "      <td>1</td>\n",
       "      <td>0</td>\n",
       "      <td>0</td>\n",
       "      <td>1</td>\n",
       "      <td>0</td>\n",
       "    </tr>\n",
       "    <tr>\n",
       "      <th>2996</th>\n",
       "      <td>2</td>\n",
       "      <td>17</td>\n",
       "      <td>3</td>\n",
       "      <td>0</td>\n",
       "      <td>0</td>\n",
       "      <td>0</td>\n",
       "      <td>95.00</td>\n",
       "      <td>0</td>\n",
       "      <td>0</td>\n",
       "      <td>0</td>\n",
       "      <td>0</td>\n",
       "      <td>0</td>\n",
       "      <td>0</td>\n",
       "      <td>0</td>\n",
       "      <td>1</td>\n",
       "      <td>0</td>\n",
       "      <td>0</td>\n",
       "      <td>0</td>\n",
       "      <td>0</td>\n",
       "      <td>1</td>\n",
       "      <td>0</td>\n",
       "    </tr>\n",
       "    <tr>\n",
       "      <th>2997</th>\n",
       "      <td>68</td>\n",
       "      <td>37</td>\n",
       "      <td>0</td>\n",
       "      <td>0</td>\n",
       "      <td>1</td>\n",
       "      <td>0</td>\n",
       "      <td>87.30</td>\n",
       "      <td>0</td>\n",
       "      <td>2</td>\n",
       "      <td>0</td>\n",
       "      <td>0</td>\n",
       "      <td>0</td>\n",
       "      <td>0</td>\n",
       "      <td>0</td>\n",
       "      <td>0</td>\n",
       "      <td>1</td>\n",
       "      <td>0</td>\n",
       "      <td>0</td>\n",
       "      <td>0</td>\n",
       "      <td>1</td>\n",
       "      <td>0</td>\n",
       "    </tr>\n",
       "    <tr>\n",
       "      <th>2998</th>\n",
       "      <td>197</td>\n",
       "      <td>52</td>\n",
       "      <td>4</td>\n",
       "      <td>0</td>\n",
       "      <td>2</td>\n",
       "      <td>0</td>\n",
       "      <td>113.40</td>\n",
       "      <td>0</td>\n",
       "      <td>0</td>\n",
       "      <td>0</td>\n",
       "      <td>0</td>\n",
       "      <td>0</td>\n",
       "      <td>0</td>\n",
       "      <td>0</td>\n",
       "      <td>1</td>\n",
       "      <td>0</td>\n",
       "      <td>0</td>\n",
       "      <td>0</td>\n",
       "      <td>0</td>\n",
       "      <td>0</td>\n",
       "      <td>1</td>\n",
       "    </tr>\n",
       "    <tr>\n",
       "      <th>2999</th>\n",
       "      <td>201</td>\n",
       "      <td>29</td>\n",
       "      <td>2</td>\n",
       "      <td>0</td>\n",
       "      <td>0</td>\n",
       "      <td>0</td>\n",
       "      <td>129.58</td>\n",
       "      <td>0</td>\n",
       "      <td>1</td>\n",
       "      <td>0</td>\n",
       "      <td>0</td>\n",
       "      <td>0</td>\n",
       "      <td>0</td>\n",
       "      <td>0</td>\n",
       "      <td>0</td>\n",
       "      <td>1</td>\n",
       "      <td>0</td>\n",
       "      <td>0</td>\n",
       "      <td>0</td>\n",
       "      <td>1</td>\n",
       "      <td>0</td>\n",
       "    </tr>\n",
       "  </tbody>\n",
       "</table>\n",
       "<p>3000 rows × 21 columns</p>\n",
       "</div>"
      ],
      "text/plain": [
       "      lead_time  arrival_week  duration  prev_cancel  booking_changes  \\\n",
       "0           245            13         5            0                0   \n",
       "1           170            25         2            0                0   \n",
       "2           304            45         3            0                0   \n",
       "3            19             7         1            0                0   \n",
       "4           214            27         4            0                0   \n",
       "...         ...           ...       ...          ...              ...   \n",
       "2995        245            28         4            0                0   \n",
       "2996          2            17         3            0                0   \n",
       "2997         68            37         0            0                1   \n",
       "2998        197            52         4            0                2   \n",
       "2999        201            29         2            0                0   \n",
       "\n",
       "      waiting_period  per_Day_price  parking  special_request  is_cancelled  \\\n",
       "0                  0          78.26        0                2             0   \n",
       "1                  0         130.50        0                0             0   \n",
       "2                  0          89.00        0                0             1   \n",
       "3                  0          82.13        0                2             0   \n",
       "4                  0          89.10        0                1             0   \n",
       "...              ...            ...      ...              ...           ...   \n",
       "2995               0         110.00        0                0             1   \n",
       "2996               0          95.00        0                0             0   \n",
       "2997               0          87.30        0                2             0   \n",
       "2998               0         113.40        0                0             0   \n",
       "2999               0         129.58        0                1             0   \n",
       "\n",
       "      Complementary  Corporate  Direct  Groups  Offline TA/TO  Online TA  \\\n",
       "0                 0          0       0       0              0          1   \n",
       "1                 0          0       0       0              0          1   \n",
       "2                 0          0       0       0              1          0   \n",
       "3                 0          0       0       0              0          1   \n",
       "4                 0          0       1       0              0          0   \n",
       "...             ...        ...     ...     ...            ...        ...   \n",
       "2995              0          0       0       0              1          0   \n",
       "2996              0          0       0       0              1          0   \n",
       "2997              0          0       0       0              0          1   \n",
       "2998              0          0       0       0              1          0   \n",
       "2999              0          0       0       0              0          1   \n",
       "\n",
       "      Non Refund       Refundable       Group  Transient  Transient-Party  \n",
       "0                   0                0      0          1                0  \n",
       "1                   0                0      0          1                0  \n",
       "2                   1                0      0          1                0  \n",
       "3                   0                0      0          1                0  \n",
       "4                   0                0      0          0                1  \n",
       "...               ...              ...    ...        ...              ...  \n",
       "2995                1                0      0          1                0  \n",
       "2996                0                0      0          1                0  \n",
       "2997                0                0      0          1                0  \n",
       "2998                0                0      0          0                1  \n",
       "2999                0                0      0          1                0  \n",
       "\n",
       "[3000 rows x 21 columns]"
      ]
     },
     "execution_count": 32,
     "metadata": {},
     "output_type": "execute_result"
    }
   ],
   "source": [
    "data"
   ]
  },
  {
   "cell_type": "code",
   "execution_count": 33,
   "metadata": {},
   "outputs": [],
   "source": [
    "X = data.drop(columns=[\"is_cancelled\"])\n",
    "y = data[\"is_cancelled\"]"
   ]
  },
  {
   "cell_type": "code",
   "execution_count": 34,
   "metadata": {},
   "outputs": [],
   "source": [
    "X_train, X_test, y_train, y_test = train_test_split(X, y, test_size=0.3, random_state=seed)"
   ]
  },
  {
   "cell_type": "code",
   "execution_count": 35,
   "metadata": {},
   "outputs": [
    {
     "data": {
      "text/plain": [
       "((2100, 20), (900, 20))"
      ]
     },
     "execution_count": 35,
     "metadata": {},
     "output_type": "execute_result"
    }
   ],
   "source": [
    "X_train.shape , X_test.shape"
   ]
  },
  {
   "cell_type": "code",
   "execution_count": null,
   "metadata": {},
   "outputs": [],
   "source": []
  },
  {
   "cell_type": "code",
   "execution_count": null,
   "metadata": {},
   "outputs": [],
   "source": []
  },
  {
   "cell_type": "markdown",
   "metadata": {},
   "source": [
    "## Logistic Regression"
   ]
  },
  {
   "cell_type": "markdown",
   "metadata": {},
   "source": [
    "### Simple Logistic Regression"
   ]
  },
  {
   "cell_type": "code",
   "execution_count": 36,
   "metadata": {},
   "outputs": [
    {
     "name": "stdout",
     "output_type": "stream",
     "text": [
      "0.8166666666666667\n",
      "0.8055555555555556\n"
     ]
    }
   ],
   "source": [
    "\n",
    "lr = make_pipeline(StandardScaler(),LogisticRegression())\n",
    "\n",
    "lr.fit(X_train,y_train)\n",
    "print(lr.score(X_train,y_train))\n",
    "print(lr.score(X_test,y_test))\n"
   ]
  },
  {
   "cell_type": "markdown",
   "metadata": {},
   "source": [
    "### Hypertuning Logistic Regression"
   ]
  },
  {
   "cell_type": "code",
   "execution_count": 37,
   "metadata": {},
   "outputs": [
    {
     "name": "stderr",
     "output_type": "stream",
     "text": [
      "C:\\Users\\egov\\.conda\\envs\\nev_python\\lib\\site-packages\\sklearn\\model_selection\\_search.py:921: UserWarning: One or more of the test scores are non-finite: [       nan 0.76571429 0.80666667 0.80904762        nan        nan\n",
      "        nan        nan        nan 0.80761905 0.81714286 0.81761905\n",
      "        nan        nan        nan        nan        nan 0.81666667\n",
      " 0.81619048 0.81619048        nan        nan        nan        nan\n",
      "        nan 0.81761905 0.8152381  0.8152381         nan        nan\n",
      "        nan        nan        nan 0.8147619  0.8152381  0.8152381\n",
      "        nan        nan        nan        nan        nan 0.8152381\n",
      " 0.8152381  0.8152381         nan        nan        nan        nan]\n",
      "  category=UserWarning\n"
     ]
    }
   ],
   "source": [
    "lr_param = {\n",
    "    \"clf__penalty\": ['l1', 'l2', 'elasticnet', None],\n",
    "    \"clf__C\":[0.01,0.1,0.5,1,5,10],\n",
    "    \"clf__solver\":['lbfgs', 'liblinear'],\n",
    "}\n",
    "\n",
    "lr_pl = Pipeline([\n",
    "    (\"std\",StandardScaler()),\n",
    "    (\"clf\", LogisticRegression(random_state=seed))]\n",
    ")\n",
    "\n",
    "lr_grid = GridSearchCV(lr_pl, lr_param, cv=5, scoring = \"accuracy\",n_jobs = -1,refit=True)\n",
    "\n",
    "lr_grid_fit = lr_grid.fit(X_train,y_train)\n"
   ]
  },
  {
   "cell_type": "code",
   "execution_count": 38,
   "metadata": {},
   "outputs": [
    {
     "name": "stdout",
     "output_type": "stream",
     "text": [
      "0.8176190476190476\n",
      "0.8044444444444444\n",
      "{'clf__C': 0.1, 'clf__penalty': 'l2', 'clf__solver': 'liblinear'}\n"
     ]
    }
   ],
   "source": [
    "lr_best = lr_grid_fit.best_estimator_\n",
    "\n",
    "print(lr_grid_fit.best_score_)\n",
    "print(lr_best.score(X_test,y_test))\n",
    "print(lr_grid_fit.best_params_)"
   ]
  },
  {
   "cell_type": "code",
   "execution_count": null,
   "metadata": {},
   "outputs": [],
   "source": []
  },
  {
   "cell_type": "markdown",
   "metadata": {},
   "source": [
    "## SVC"
   ]
  },
  {
   "cell_type": "markdown",
   "metadata": {},
   "source": [
    "### Simple SVC"
   ]
  },
  {
   "cell_type": "code",
   "execution_count": 42,
   "metadata": {},
   "outputs": [
    {
     "name": "stdout",
     "output_type": "stream",
     "text": [
      "0.8361904761904762\n",
      "0.8133333333333334\n"
     ]
    }
   ],
   "source": [
    "svc = make_pipeline(StandardScaler(),SVC())\n",
    "svc.fit(X_train,y_train)\n",
    "print(svc.score(X_train,y_train))\n",
    "print(svc.score(X_test,y_test))"
   ]
  },
  {
   "cell_type": "markdown",
   "metadata": {},
   "source": [
    "### Hypertuning SVC"
   ]
  },
  {
   "cell_type": "code",
   "execution_count": 43,
   "metadata": {},
   "outputs": [],
   "source": [
    "svc_param = [\n",
    "    {\n",
    "        \"svc__C\":[0.01,0.1,0.5,1,5,10],\n",
    "        \"svc__kernel\":['poly'],\n",
    "        \"svc__degree\":[2,3,4],\n",
    "    },\n",
    "    {\n",
    "    \"svc__C\":[0.01,0.1,0.5,1,5,10],\n",
    "    \"svc__kernel\":['linear','rbf'],\n",
    "    \"svc__gamma\":[ 0.01,0.1,0.5,1,5,10,\"scale\",\"auto\" ]\n",
    "    },\n",
    "]\n",
    "svc_pipe = Pipeline([\n",
    "    (\"std\",StandardScaler()),\n",
    "    (\"svc\", SVC(random_state=seed,probability=True))]\n",
    ")\n",
    "\n",
    "svc_grid = GridSearchCV(svc_pipe, svc_param, cv=5, scoring = \"accuracy\",n_jobs = -1,refit=True)\n",
    "\n",
    "svc_grid_fit = svc_grid.fit(X_train,y_train)"
   ]
  },
  {
   "cell_type": "code",
   "execution_count": 44,
   "metadata": {},
   "outputs": [
    {
     "name": "stdout",
     "output_type": "stream",
     "text": [
      "0.8290476190476189\n",
      "0.8188888888888889\n",
      "{'svc__C': 0.5, 'svc__gamma': 'auto', 'svc__kernel': 'rbf'}\n"
     ]
    }
   ],
   "source": [
    "svc_best = svc_grid_fit.best_estimator_\n",
    "\n",
    "print(svc_grid_fit.best_score_)\n",
    "print(svc_best.score(X_test,y_test))\n",
    "print(svc_grid_fit.best_params_)"
   ]
  },
  {
   "cell_type": "code",
   "execution_count": null,
   "metadata": {},
   "outputs": [],
   "source": []
  },
  {
   "cell_type": "markdown",
   "metadata": {},
   "source": [
    "## XGBClassifier"
   ]
  },
  {
   "cell_type": "markdown",
   "metadata": {},
   "source": [
    "### Simple XGBClassifier"
   ]
  },
  {
   "cell_type": "code",
   "execution_count": 45,
   "metadata": {},
   "outputs": [
    {
     "name": "stdout",
     "output_type": "stream",
     "text": [
      "0.8447619047619047\n",
      "0.81\n"
     ]
    }
   ],
   "source": [
    "xgb = XGBClassifier(use_label_encoder=False)\n",
    "\n",
    "xgb.fit(X_train,y_train)\n",
    "print(xgb.score(X_train,y_train))\n",
    "print(xgb.score(X_test,y_test))"
   ]
  },
  {
   "cell_type": "code",
   "execution_count": null,
   "metadata": {},
   "outputs": [],
   "source": []
  },
  {
   "cell_type": "markdown",
   "metadata": {},
   "source": [
    "### Model Learning Visualization "
   ]
  },
  {
   "cell_type": "code",
   "execution_count": 48,
   "metadata": {},
   "outputs": [
    {
     "name": "stdout",
     "output_type": "stream",
     "text": [
      "[0]\tvalidation_0-auc:0.88807\tvalidation_0-logloss:0.643026\tvalidation_1-auc:0.810166\tvalidation_1-logloss:0.652701\n",
      "[1]\tvalidation_0-auc:0.910692\tvalidation_0-logloss:0.601205\tvalidation_1-auc:0.835474\tvalidation_1-logloss:0.61714\n",
      "[2]\tvalidation_0-auc:0.920476\tvalidation_0-logloss:0.564939\tvalidation_1-auc:0.849653\tvalidation_1-logloss:0.586304\n",
      "[3]\tvalidation_0-auc:0.924388\tvalidation_0-logloss:0.53522\tvalidation_1-auc:0.850842\tvalidation_1-logloss:0.563\n",
      "[4]\tvalidation_0-auc:0.930614\tvalidation_0-logloss:0.507757\tvalidation_1-auc:0.851145\tvalidation_1-logloss:0.543404\n",
      "[5]\tvalidation_0-auc:0.933273\tvalidation_0-logloss:0.483864\tvalidation_1-auc:0.847968\tvalidation_1-logloss:0.527836\n",
      "[6]\tvalidation_0-auc:0.935625\tvalidation_0-logloss:0.463629\tvalidation_1-auc:0.852133\tvalidation_1-logloss:0.512912\n",
      "[7]\tvalidation_0-auc:0.937451\tvalidation_0-logloss:0.445536\tvalidation_1-auc:0.85478\tvalidation_1-logloss:0.499864\n",
      "[8]\tvalidation_0-auc:0.9409\tvalidation_0-logloss:0.429799\tvalidation_1-auc:0.850952\tvalidation_1-logloss:0.492179\n",
      "[9]\tvalidation_0-auc:0.944706\tvalidation_0-logloss:0.414938\tvalidation_1-auc:0.85354\tvalidation_1-logloss:0.483289\n",
      "[10]\tvalidation_0-auc:0.946407\tvalidation_0-logloss:0.401515\tvalidation_1-auc:0.855821\tvalidation_1-logloss:0.473321\n",
      "[11]\tvalidation_0-auc:0.950069\tvalidation_0-logloss:0.390069\tvalidation_1-auc:0.855941\tvalidation_1-logloss:0.467801\n",
      "[12]\tvalidation_0-auc:0.951719\tvalidation_0-logloss:0.378608\tvalidation_1-auc:0.857397\tvalidation_1-logloss:0.461769\n",
      "[13]\tvalidation_0-auc:0.953808\tvalidation_0-logloss:0.367961\tvalidation_1-auc:0.856104\tvalidation_1-logloss:0.45861\n",
      "[14]\tvalidation_0-auc:0.955516\tvalidation_0-logloss:0.358315\tvalidation_1-auc:0.856623\tvalidation_1-logloss:0.454025\n",
      "[15]\tvalidation_0-auc:0.957622\tvalidation_0-logloss:0.349272\tvalidation_1-auc:0.860279\tvalidation_1-logloss:0.448277\n",
      "[16]\tvalidation_0-auc:0.958847\tvalidation_0-logloss:0.341462\tvalidation_1-auc:0.8612\tvalidation_1-logloss:0.445093\n",
      "[17]\tvalidation_0-auc:0.961146\tvalidation_0-logloss:0.334123\tvalidation_1-auc:0.863339\tvalidation_1-logloss:0.440743\n",
      "[18]\tvalidation_0-auc:0.962046\tvalidation_0-logloss:0.328234\tvalidation_1-auc:0.863303\tvalidation_1-logloss:0.438329\n",
      "[19]\tvalidation_0-auc:0.963859\tvalidation_0-logloss:0.320662\tvalidation_1-auc:0.862249\tvalidation_1-logloss:0.436411\n",
      "[20]\tvalidation_0-auc:0.964498\tvalidation_0-logloss:0.314461\tvalidation_1-auc:0.863165\tvalidation_1-logloss:0.434001\n",
      "[21]\tvalidation_0-auc:0.966086\tvalidation_0-logloss:0.30839\tvalidation_1-auc:0.864153\tvalidation_1-logloss:0.432093\n",
      "[22]\tvalidation_0-auc:0.967847\tvalidation_0-logloss:0.302464\tvalidation_1-auc:0.862995\tvalidation_1-logloss:0.431196\n",
      "[23]\tvalidation_0-auc:0.969049\tvalidation_0-logloss:0.29733\tvalidation_1-auc:0.864466\tvalidation_1-logloss:0.428503\n",
      "[24]\tvalidation_0-auc:0.969689\tvalidation_0-logloss:0.292873\tvalidation_1-auc:0.864069\tvalidation_1-logloss:0.42727\n",
      "[25]\tvalidation_0-auc:0.970028\tvalidation_0-logloss:0.288646\tvalidation_1-auc:0.862796\tvalidation_1-logloss:0.427774\n",
      "[26]\tvalidation_0-auc:0.970811\tvalidation_0-logloss:0.285117\tvalidation_1-auc:0.863183\tvalidation_1-logloss:0.426168\n",
      "[27]\tvalidation_0-auc:0.971646\tvalidation_0-logloss:0.28185\tvalidation_1-auc:0.862353\tvalidation_1-logloss:0.426174\n",
      "[28]\tvalidation_0-auc:0.971992\tvalidation_0-logloss:0.277255\tvalidation_1-auc:0.862771\tvalidation_1-logloss:0.425235\n",
      "[29]\tvalidation_0-auc:0.972676\tvalidation_0-logloss:0.273721\tvalidation_1-auc:0.862056\tvalidation_1-logloss:0.425587\n",
      "[30]\tvalidation_0-auc:0.974267\tvalidation_0-logloss:0.269834\tvalidation_1-auc:0.862193\tvalidation_1-logloss:0.425545\n",
      "[31]\tvalidation_0-auc:0.97455\tvalidation_0-logloss:0.266557\tvalidation_1-auc:0.863985\tvalidation_1-logloss:0.4238\n",
      "[32]\tvalidation_0-auc:0.975497\tvalidation_0-logloss:0.262863\tvalidation_1-auc:0.864581\tvalidation_1-logloss:0.422755\n",
      "[33]\tvalidation_0-auc:0.976316\tvalidation_0-logloss:0.259197\tvalidation_1-auc:0.864652\tvalidation_1-logloss:0.423088\n",
      "[34]\tvalidation_0-auc:0.976957\tvalidation_0-logloss:0.255813\tvalidation_1-auc:0.866734\tvalidation_1-logloss:0.420609\n",
      "[35]\tvalidation_0-auc:0.977089\tvalidation_0-logloss:0.253299\tvalidation_1-auc:0.866678\tvalidation_1-logloss:0.420053\n",
      "[36]\tvalidation_0-auc:0.978356\tvalidation_0-logloss:0.249496\tvalidation_1-auc:0.867014\tvalidation_1-logloss:0.419731\n",
      "[37]\tvalidation_0-auc:0.97898\tvalidation_0-logloss:0.246522\tvalidation_1-auc:0.866948\tvalidation_1-logloss:0.420196\n",
      "[38]\tvalidation_0-auc:0.979443\tvalidation_0-logloss:0.244181\tvalidation_1-auc:0.867809\tvalidation_1-logloss:0.419993\n",
      "[39]\tvalidation_0-auc:0.980387\tvalidation_0-logloss:0.241453\tvalidation_1-auc:0.867534\tvalidation_1-logloss:0.42101\n",
      "[40]\tvalidation_0-auc:0.98094\tvalidation_0-logloss:0.239155\tvalidation_1-auc:0.867837\tvalidation_1-logloss:0.420326\n",
      "[41]\tvalidation_0-auc:0.981791\tvalidation_0-logloss:0.236194\tvalidation_1-auc:0.867923\tvalidation_1-logloss:0.421115\n",
      "[42]\tvalidation_0-auc:0.982494\tvalidation_0-logloss:0.233556\tvalidation_1-auc:0.868056\tvalidation_1-logloss:0.420892\n",
      "[43]\tvalidation_0-auc:0.982819\tvalidation_0-logloss:0.231246\tvalidation_1-auc:0.868499\tvalidation_1-logloss:0.420988\n",
      "[44]\tvalidation_0-auc:0.983067\tvalidation_0-logloss:0.228944\tvalidation_1-auc:0.869349\tvalidation_1-logloss:0.420141\n",
      "[45]\tvalidation_0-auc:0.983582\tvalidation_0-logloss:0.226166\tvalidation_1-auc:0.86971\tvalidation_1-logloss:0.419781\n",
      "[46]\tvalidation_0-auc:0.984128\tvalidation_0-logloss:0.224609\tvalidation_1-auc:0.869685\tvalidation_1-logloss:0.42026\n",
      "[47]\tvalidation_0-auc:0.984736\tvalidation_0-logloss:0.222613\tvalidation_1-auc:0.868834\tvalidation_1-logloss:0.42154\n",
      "[48]\tvalidation_0-auc:0.985233\tvalidation_0-logloss:0.220373\tvalidation_1-auc:0.869563\tvalidation_1-logloss:0.420102\n",
      "[49]\tvalidation_0-auc:0.985591\tvalidation_0-logloss:0.218422\tvalidation_1-auc:0.869211\tvalidation_1-logloss:0.421121\n",
      "[50]\tvalidation_0-auc:0.98561\tvalidation_0-logloss:0.217039\tvalidation_1-auc:0.86803\tvalidation_1-logloss:0.422575\n",
      "[51]\tvalidation_0-auc:0.98598\tvalidation_0-logloss:0.216001\tvalidation_1-auc:0.868885\tvalidation_1-logloss:0.422173\n",
      "[52]\tvalidation_0-auc:0.986811\tvalidation_0-logloss:0.213561\tvalidation_1-auc:0.86856\tvalidation_1-logloss:0.422491\n",
      "[53]\tvalidation_0-auc:0.987367\tvalidation_0-logloss:0.211446\tvalidation_1-auc:0.867974\tvalidation_1-logloss:0.423501\n",
      "[54]\tvalidation_0-auc:0.98778\tvalidation_0-logloss:0.209423\tvalidation_1-auc:0.8686\tvalidation_1-logloss:0.423005\n",
      "[55]\tvalidation_0-auc:0.988401\tvalidation_0-logloss:0.206799\tvalidation_1-auc:0.867745\tvalidation_1-logloss:0.424686\n",
      "[56]\tvalidation_0-auc:0.988487\tvalidation_0-logloss:0.205555\tvalidation_1-auc:0.867638\tvalidation_1-logloss:0.425328\n",
      "[57]\tvalidation_0-auc:0.988787\tvalidation_0-logloss:0.203882\tvalidation_1-auc:0.867587\tvalidation_1-logloss:0.425931\n",
      "[58]\tvalidation_0-auc:0.98911\tvalidation_0-logloss:0.202271\tvalidation_1-auc:0.86748\tvalidation_1-logloss:0.42585\n",
      "[59]\tvalidation_0-auc:0.989877\tvalidation_0-logloss:0.199951\tvalidation_1-auc:0.867338\tvalidation_1-logloss:0.425186\n",
      "[60]\tvalidation_0-auc:0.99024\tvalidation_0-logloss:0.198278\tvalidation_1-auc:0.869359\tvalidation_1-logloss:0.423432\n",
      "[61]\tvalidation_0-auc:0.990569\tvalidation_0-logloss:0.196401\tvalidation_1-auc:0.868784\tvalidation_1-logloss:0.424428\n",
      "[62]\tvalidation_0-auc:0.990787\tvalidation_0-logloss:0.194362\tvalidation_1-auc:0.868473\tvalidation_1-logloss:0.425434\n",
      "[63]\tvalidation_0-auc:0.991099\tvalidation_0-logloss:0.192465\tvalidation_1-auc:0.868402\tvalidation_1-logloss:0.42501\n",
      "[64]\tvalidation_0-auc:0.991544\tvalidation_0-logloss:0.190548\tvalidation_1-auc:0.869277\tvalidation_1-logloss:0.425052\n",
      "[65]\tvalidation_0-auc:0.991525\tvalidation_0-logloss:0.189074\tvalidation_1-auc:0.86832\tvalidation_1-logloss:0.426528\n",
      "[66]\tvalidation_0-auc:0.991794\tvalidation_0-logloss:0.187264\tvalidation_1-auc:0.867979\tvalidation_1-logloss:0.427565\n",
      "[67]\tvalidation_0-auc:0.992077\tvalidation_0-logloss:0.185693\tvalidation_1-auc:0.866818\tvalidation_1-logloss:0.429307\n",
      "[68]\tvalidation_0-auc:0.992276\tvalidation_0-logloss:0.183745\tvalidation_1-auc:0.865836\tvalidation_1-logloss:0.431783\n",
      "[69]\tvalidation_0-auc:0.992399\tvalidation_0-logloss:0.181755\tvalidation_1-auc:0.86581\tvalidation_1-logloss:0.432237\n"
     ]
    },
    {
     "data": {
      "text/plain": [
       "XGBClassifier(max_depth=10, n_estimators=70, subsample=0.5,\n",
       "              use_label_encoder=False)"
      ]
     },
     "execution_count": 48,
     "metadata": {},
     "output_type": "execute_result"
    }
   ],
   "source": [
    "xgb = XGBClassifier(use_label_encoder=False, max_depth= 10, n_estimators=70, objective='binary:logistic', subsample=0.5)\n",
    "xgb.fit(X_train, y_train,\n",
    "        eval_set=[(X_train, y_train), (X_test, y_test)],\n",
    "        eval_metric=['auc', \"logloss\"],\n",
    "        verbose=True)"
   ]
  },
  {
   "cell_type": "code",
   "execution_count": 51,
   "metadata": {},
   "outputs": [
    {
     "data": {
      "image/png": "[encoded data removed]",
      "text/plain": [
       "<Figure size 864x864 with 1 Axes>"
      ]
     },
     "metadata": {
      "needs_background": "light"
     },
     "output_type": "display_data"
    }
   ],
   "source": [
    "################# Model Learning Visualization ################################\n",
    "from matplotlib import pyplot\n",
    "\n",
    "# retrieve performance metrics\n",
    "results = xgb.evals_result()\n",
    "epochs = len(results['validation_0']['auc'])\n",
    "x_axis = range(0, epochs)\n",
    "\n",
    "# plot log loss\n",
    "fig, ax = pyplot.subplots(figsize=(12,12))\n",
    "ax.plot(x_axis, results['validation_0']['logloss'], label='Train')\n",
    "ax.plot(x_axis, results['validation_1']['logloss'], label='Test')\n",
    "ax.legend()\n",
    "\n",
    "pyplot.ylabel('Log Loss')\n",
    "pyplot.title('XGBoost Log Loss')\n",
    "pyplot.show()"
   ]
  },
  {
   "cell_type": "code",
   "execution_count": 52,
   "metadata": {},
   "outputs": [
    {
     "data": {
      "image/png": "[encoded data removed]",
      "text/plain": [
       "<Figure size 864x864 with 1 Axes>"
      ]
     },
     "metadata": {
      "needs_background": "light"
     },
     "output_type": "display_data"
    }
   ],
   "source": [
    "# plot AUC score evolution\n",
    "fig, ax = pyplot.subplots(figsize=(12,12))\n",
    "ax.plot(x_axis, results['validation_0']['auc'], label='Train')\n",
    "ax.plot(x_axis, results['validation_1']['auc'], label='Test')\n",
    "ax.legend()\n",
    "\n",
    "pyplot.ylabel('AUC Score')\n",
    "pyplot.title('XGBoost AUC evolution')\n",
    "pyplot.show()"
   ]
  },
  {
   "cell_type": "code",
   "execution_count": null,
   "metadata": {},
   "outputs": [],
   "source": []
  },
  {
   "cell_type": "markdown",
   "metadata": {},
   "source": [
    "### Hypertuning XGBClassifier"
   ]
  },
  {
   "cell_type": "code",
   "execution_count": 53,
   "metadata": {},
   "outputs": [
    {
     "name": "stderr",
     "output_type": "stream",
     "text": [
      "C:\\Users\\egov\\.conda\\envs\\nev_python\\lib\\site-packages\\sklearn\\model_selection\\_search.py:921: UserWarning: One or more of the test scores are non-finite: [0.80380952 0.83095238 0.82761905        nan        nan        nan\n",
      " 0.80952381 0.83142857 0.82809524        nan        nan        nan\n",
      " 0.81190476 0.83095238 0.82666667        nan        nan        nan\n",
      " 0.81619048 0.83238095 0.82904762        nan        nan        nan\n",
      " 0.80619048 0.83380952 0.81047619        nan        nan        nan\n",
      " 0.81142857 0.83571429 0.81619048        nan        nan        nan\n",
      " 0.81714286 0.8352381  0.82              nan        nan        nan\n",
      " 0.81809524 0.83428571 0.81761905        nan        nan        nan\n",
      " 0.80619048 0.83571429 0.79857143        nan        nan        nan\n",
      " 0.81142857 0.8352381  0.80142857        nan        nan        nan\n",
      " 0.81619048 0.8347619  0.80761905        nan        nan        nan\n",
      " 0.81809524 0.83333333 0.80904762        nan        nan        nan\n",
      " 0.80619048 0.8352381  0.79714286        nan        nan        nan\n",
      " 0.81142857 0.8352381  0.8052381         nan        nan        nan\n",
      " 0.81619048 0.83428571 0.80666667        nan        nan        nan\n",
      " 0.81809524 0.8347619  0.80619048        nan        nan        nan\n",
      " 0.80619048 0.8352381  0.79714286        nan        nan        nan\n",
      " 0.81142857 0.8352381  0.8052381         nan        nan        nan\n",
      " 0.81619048 0.83428571 0.80666667        nan        nan        nan\n",
      " 0.81809524 0.8347619  0.80619048        nan        nan        nan\n",
      " 0.82047619 0.82904762 0.83380952        nan        nan        nan\n",
      " 0.81238095 0.82619048 0.83238095        nan        nan        nan\n",
      " 0.80857143 0.82857143 0.82619048        nan        nan        nan\n",
      " 0.81238095 0.82380952 0.82095238        nan        nan        nan\n",
      " 0.80809524 0.83190476 0.82285714        nan        nan        nan\n",
      " 0.81285714 0.82428571 0.82285714        nan        nan        nan\n",
      " 0.81238095 0.82380952 0.8147619         nan        nan        nan\n",
      " 0.81095238 0.81857143 0.80857143        nan        nan        nan\n",
      " 0.81142857 0.82333333 0.8047619         nan        nan        nan\n",
      " 0.81714286 0.82142857 0.80571429        nan        nan        nan\n",
      " 0.81428571 0.8152381  0.80285714        nan        nan        nan\n",
      " 0.8147619  0.8152381  0.80285714        nan        nan        nan\n",
      " 0.81142857 0.82428571 0.80904762        nan        nan        nan\n",
      " 0.81714286 0.82428571 0.8052381         nan        nan        nan\n",
      " 0.81428571 0.81857143 0.80619048        nan        nan        nan\n",
      " 0.8147619  0.81428571 0.80190476        nan        nan        nan\n",
      " 0.81142857 0.82619048 0.81380952        nan        nan        nan\n",
      " 0.81714286 0.81904762 0.80761905        nan        nan        nan\n",
      " 0.81428571 0.81571429 0.80571429        nan        nan        nan\n",
      " 0.8147619  0.8147619  0.8047619         nan        nan        nan\n",
      " 0.75333333 0.79047619 0.81761905        nan        nan        nan\n",
      " 0.73857143 0.78809524 0.81              nan        nan        nan\n",
      " 0.75285714 0.78904762 0.80190476        nan        nan        nan\n",
      " 0.74619048 0.78904762 0.79333333        nan        nan        nan\n",
      " 0.75571429 0.79904762 0.79571429        nan        nan        nan\n",
      " 0.74619048 0.79285714 0.79619048        nan        nan        nan\n",
      " 0.73904762 0.79428571 0.79238095        nan        nan        nan\n",
      " 0.74428571 0.79285714 0.79190476        nan        nan        nan\n",
      " 0.75428571 0.7947619  0.79904762        nan        nan        nan\n",
      " 0.74190476 0.79857143 0.79952381        nan        nan        nan\n",
      " 0.73857143 0.79285714 0.79952381        nan        nan        nan\n",
      " 0.73952381 0.79714286 0.80095238        nan        nan        nan\n",
      " 0.75428571 0.79428571 0.79761905        nan        nan        nan\n",
      " 0.74190476 0.79333333 0.79809524        nan        nan        nan\n",
      " 0.73857143 0.7947619  0.79571429        nan        nan        nan\n",
      " 0.73952381 0.79380952 0.79428571        nan        nan        nan\n",
      " 0.75428571 0.79428571 0.79619048        nan        nan        nan\n",
      " 0.74190476 0.79333333 0.79904762        nan        nan        nan\n",
      " 0.73857143 0.7947619  0.79761905        nan        nan        nan\n",
      " 0.73952381 0.79380952 0.7952381         nan        nan        nan\n",
      " 0.80380952 0.83095238 0.82761905        nan        nan        nan\n",
      " 0.80952381 0.83142857 0.82809524        nan        nan        nan\n",
      " 0.81190476 0.83095238 0.82666667        nan        nan        nan\n",
      " 0.81619048 0.83238095 0.82904762        nan        nan        nan\n",
      " 0.80619048 0.83380952 0.81047619        nan        nan        nan\n",
      " 0.81142857 0.83571429 0.81619048        nan        nan        nan\n",
      " 0.81714286 0.8352381  0.82              nan        nan        nan\n",
      " 0.81809524 0.83428571 0.81761905        nan        nan        nan\n",
      " 0.80619048 0.83571429 0.79857143        nan        nan        nan\n",
      " 0.81142857 0.8352381  0.80142857        nan        nan        nan\n",
      " 0.81619048 0.8347619  0.80761905        nan        nan        nan\n",
      " 0.81809524 0.83333333 0.80904762        nan        nan        nan\n",
      " 0.80619048 0.8352381  0.79714286        nan        nan        nan\n",
      " 0.81142857 0.8352381  0.8052381         nan        nan        nan\n",
      " 0.81619048 0.83428571 0.80666667        nan        nan        nan\n",
      " 0.81809524 0.8347619  0.80619048        nan        nan        nan\n",
      " 0.80619048 0.8352381  0.79714286        nan        nan        nan\n",
      " 0.81142857 0.8352381  0.8052381         nan        nan        nan\n",
      " 0.81619048 0.83428571 0.80666667        nan        nan        nan\n",
      " 0.81809524 0.8347619  0.80619048        nan        nan        nan\n",
      " 0.82047619 0.82904762 0.83380952        nan        nan        nan\n",
      " 0.81238095 0.82619048 0.83238095        nan        nan        nan\n",
      " 0.80857143 0.82857143 0.82619048        nan        nan        nan\n",
      " 0.81238095 0.82380952 0.82095238        nan        nan        nan\n",
      " 0.80809524 0.83190476 0.82285714        nan        nan        nan\n",
      " 0.81285714 0.82428571 0.82285714        nan        nan        nan\n",
      " 0.81238095 0.82380952 0.8147619         nan        nan        nan\n",
      " 0.81095238 0.81857143 0.80857143        nan        nan        nan\n",
      " 0.81142857 0.82333333 0.8047619         nan        nan        nan\n",
      " 0.81714286 0.82142857 0.80571429        nan        nan        nan\n",
      " 0.81428571 0.8152381  0.80285714        nan        nan        nan\n",
      " 0.8147619  0.8152381  0.80285714        nan        nan        nan\n",
      " 0.81142857 0.82428571 0.80904762        nan        nan        nan\n",
      " 0.81714286 0.82428571 0.8052381         nan        nan        nan\n",
      " 0.81428571 0.81857143 0.80619048        nan        nan        nan\n",
      " 0.8147619  0.81428571 0.80190476        nan        nan        nan\n",
      " 0.81142857 0.82619048 0.81380952        nan        nan        nan\n",
      " 0.81714286 0.81904762 0.80761905        nan        nan        nan\n",
      " 0.81428571 0.81571429 0.80571429        nan        nan        nan\n",
      " 0.8147619  0.8147619  0.8047619         nan        nan        nan\n",
      " 0.75333333 0.79047619 0.81761905        nan        nan        nan\n",
      " 0.73857143 0.78809524 0.81              nan        nan        nan\n",
      " 0.75285714 0.78904762 0.80190476        nan        nan        nan\n",
      " 0.74619048 0.78904762 0.79333333        nan        nan        nan\n",
      " 0.75571429 0.79904762 0.79571429        nan        nan        nan\n",
      " 0.74619048 0.79285714 0.79619048        nan        nan        nan\n",
      " 0.73904762 0.79428571 0.79238095        nan        nan        nan\n",
      " 0.74428571 0.79285714 0.79190476        nan        nan        nan\n",
      " 0.75428571 0.7947619  0.79904762        nan        nan        nan\n",
      " 0.74190476 0.79857143 0.79952381        nan        nan        nan\n",
      " 0.73857143 0.79285714 0.79952381        nan        nan        nan\n",
      " 0.73952381 0.79714286 0.80095238        nan        nan        nan\n",
      " 0.75428571 0.79428571 0.79761905        nan        nan        nan\n",
      " 0.74190476 0.79333333 0.79809524        nan        nan        nan\n",
      " 0.73857143 0.7947619  0.79571429        nan        nan        nan\n",
      " 0.73952381 0.79380952 0.79428571        nan        nan        nan\n",
      " 0.75428571 0.79428571 0.79619048        nan        nan        nan\n",
      " 0.74190476 0.79333333 0.79904762        nan        nan        nan\n",
      " 0.73857143 0.7947619  0.79761905        nan        nan        nan\n",
      " 0.73952381 0.79380952 0.7952381         nan        nan        nan]\n",
      "  category=UserWarning\n"
     ]
    }
   ],
   "source": [
    "xgb_param = {\n",
    " 'n_estimators' : [50,70,100,150],\n",
    " 'learning_rate' : [0.01, 0.1,0.5],\n",
    " 'subsample' :[0.1, 0.5, 1.0 ],\n",
    " 'max_depth' : [5,10,15,20,25],\n",
    " 'criterion' : ['giny','entropy'],\n",
    " 'objective':['binary:logistic',\"gbtree\"],\n",
    "}\n",
    "xgb_pipe = XGBClassifier(random_state=seed,use_label_encoder=False)\n",
    "\n",
    "\n",
    "xgb_grid = GridSearchCV(xgb_pipe, xgb_param, cv=5, scoring = \"accuracy\",n_jobs = -1,refit=True)\n",
    "\n",
    "xgb_grid_fit = xgb_grid.fit(X_train,y_train)"
   ]
  },
  {
   "cell_type": "code",
   "execution_count": 54,
   "metadata": {},
   "outputs": [
    {
     "name": "stdout",
     "output_type": "stream",
     "text": [
      "0.8357142857142856\n",
      "0.8144444444444444\n",
      "{'criterion': 'giny', 'learning_rate': 0.01, 'max_depth': 10, 'n_estimators': 70, 'objective': 'binary:logistic', 'subsample': 0.5}\n"
     ]
    }
   ],
   "source": [
    "xgb_best = xgb_grid_fit.best_estimator_\n",
    "\n",
    "print(xgb_grid_fit.best_score_)\n",
    "print(xgb_best.score(X_test,y_test))\n",
    "print(xgb_grid_fit.best_params_)"
   ]
  },
  {
   "cell_type": "markdown",
   "metadata": {},
   "source": [
    "### Hypertuning Random Forest Regressor"
   ]
  },
  {
   "cell_type": "code",
   "execution_count": 55,
   "metadata": {},
   "outputs": [
    {
     "name": "stderr",
     "output_type": "stream",
     "text": [
      "C:\\Users\\egov\\.conda\\envs\\nev_python\\lib\\site-packages\\sklearn\\model_selection\\_search.py:921: UserWarning: One or more of the test scores are non-finite: [       nan        nan        nan        nan        nan        nan\n",
      "        nan        nan        nan        nan        nan        nan\n",
      "        nan        nan        nan        nan        nan        nan\n",
      "        nan        nan        nan        nan        nan        nan\n",
      "        nan        nan        nan        nan        nan        nan\n",
      " 0.79809524 0.80095238 0.8        0.79666667 0.79761905 0.79809524\n",
      " 0.83809524 0.83809524 0.83904762 0.84       0.83904762 0.83857143\n",
      " 0.83238095 0.8352381  0.83761905 0.83952381 0.83952381 0.83952381\n",
      " 0.83047619 0.82952381 0.83380952 0.83571429 0.83714286 0.83428571\n",
      " 0.82571429 0.82571429 0.82809524 0.82666667 0.83190476 0.83190476]\n",
      "  category=UserWarning\n"
     ]
    }
   ],
   "source": [
    "\n",
    "rf_param = {\n",
    " 'n_estimators' : [50,70,100,150,200,250],\n",
    " 'max_depth' : [5,10,15,20,25],\n",
    " 'criterion' : ['giny','entropy'],\n",
    "}\n",
    "rf_pipe = RandomForestClassifier(random_state=seed)\n",
    "\n",
    "\n",
    "rf_grid = GridSearchCV(rf_pipe, rf_param, cv=5, scoring = \"accuracy\",n_jobs = -1,refit=True)\n",
    "\n",
    "rf_grid_fit = rf_grid.fit(X_train,y_train)"
   ]
  },
  {
   "cell_type": "code",
   "execution_count": 56,
   "metadata": {},
   "outputs": [
    {
     "name": "stdout",
     "output_type": "stream",
     "text": [
      "0.8399999999999999\n",
      "0.8144444444444444\n",
      "{'criterion': 'entropy', 'max_depth': 10, 'n_estimators': 150}\n"
     ]
    }
   ],
   "source": [
    "rf_best = rf_grid_fit.best_estimator_\n",
    "\n",
    "print(rf_grid_fit.best_score_)\n",
    "print(rf_best.score(X_test,y_test))\n",
    "print(rf_grid_fit.best_params_)"
   ]
  },
  {
   "cell_type": "code",
   "execution_count": null,
   "metadata": {},
   "outputs": [],
   "source": []
  },
  {
   "cell_type": "code",
   "execution_count": 92,
   "metadata": {},
   "outputs": [],
   "source": []
  },
  {
   "cell_type": "markdown",
   "metadata": {},
   "source": [
    "## Model Performance"
   ]
  },
  {
   "cell_type": "code",
   "execution_count": 60,
   "metadata": {},
   "outputs": [
    {
     "name": "stdout",
     "output_type": "stream",
     "text": [
      "0.7920332355816228\n",
      "              precision    recall  f1-score   support\n",
      "\n",
      "           0       0.79      0.95      0.86       528\n",
      "           1       0.89      0.64      0.74       372\n",
      "\n",
      "    accuracy                           0.82       900\n",
      "   macro avg       0.84      0.79      0.80       900\n",
      "weighted avg       0.83      0.82      0.81       900\n",
      "\n"
     ]
    }
   ],
   "source": [
    "print(roc_auc_score( y_test ,svc_best.predict_proba(X_test)[:,1] ))\n",
    "print(classification_report(y_test, svc_best.predict(X_test) ))"
   ]
  },
  {
   "cell_type": "code",
   "execution_count": 61,
   "metadata": {},
   "outputs": [
    {
     "name": "stdout",
     "output_type": "stream",
     "text": [
      "0.7878482404692081\n",
      "              precision    recall  f1-score   support\n",
      "\n",
      "           0       0.79      0.94      0.86       528\n",
      "           1       0.88      0.63      0.74       372\n",
      "\n",
      "    accuracy                           0.81       900\n",
      "   macro avg       0.83      0.79      0.80       900\n",
      "weighted avg       0.83      0.81      0.81       900\n",
      "\n"
     ]
    }
   ],
   "source": [
    "print(roc_auc_score( y_test ,rf_best.predict_proba(X_test)[:,1] ))\n",
    "print(classification_report(y_test, rf_best.predict(X_test) ))"
   ]
  },
  {
   "cell_type": "code",
   "execution_count": 62,
   "metadata": {},
   "outputs": [
    {
     "name": "stdout",
     "output_type": "stream",
     "text": [
      "0.7898338220918867\n",
      "              precision    recall  f1-score   support\n",
      "\n",
      "           0       0.79      0.93      0.85       528\n",
      "           1       0.87      0.65      0.74       372\n",
      "\n",
      "    accuracy                           0.81       900\n",
      "   macro avg       0.83      0.79      0.80       900\n",
      "weighted avg       0.82      0.81      0.81       900\n",
      "\n"
     ]
    }
   ],
   "source": [
    "print(roc_auc_score( y_test ,xgb_best.predict_proba(X_test)[:,1] ))\n",
    "print(classification_report(y_test, xgb_best.predict(X_test) ))"
   ]
  },
  {
   "cell_type": "code",
   "execution_count": null,
   "metadata": {},
   "outputs": [],
   "source": []
  },
  {
   "cell_type": "code",
   "execution_count": null,
   "metadata": {},
   "outputs": [],
   "source": []
  },
  {
   "cell_type": "code",
   "execution_count": null,
   "metadata": {},
   "outputs": [],
   "source": []
  },
  {
   "cell_type": "code",
   "execution_count": null,
   "metadata": {},
   "outputs": [],
   "source": []
  },
  {
   "cell_type": "code",
   "execution_count": null,
   "metadata": {},
   "outputs": [],
   "source": []
  },
  {
   "cell_type": "markdown",
   "metadata": {
    "colab_type": "text",
    "id": "IqxVwWBwNNQS"
   },
   "source": [
    "\n",
    "**Describe the the most important features of the model to management.**\n",
    "\n",
    "> #### Task:\n",
    "- **Visualize the top 10 features and their feature importance.**\n"
   ]
  },
  {
   "cell_type": "code",
   "execution_count": 63,
   "metadata": {
    "colab": {},
    "colab_type": "code",
    "id": "mNMb2ZGCNNQT"
   },
   "outputs": [
    {
     "data": {
      "image/png": "[encoded data removed]",
      "text/plain": [
       "<Figure size 432x288 with 1 Axes>"
      ]
     },
     "metadata": {
      "needs_background": "light"
     },
     "output_type": "display_data"
    }
   ],
   "source": [
    "\n",
    "\n",
    "model = rf_best\n",
    "\n",
    "importance = model.feature_importances_\n",
    "\n",
    "ziped_val =  dict(zip(X.columns,importance))\n",
    "\n",
    "ziped_val = dict(sorted(ziped_val.items(), key=lambda x: x[1], reverse = True) )\n",
    "\n",
    "\n",
    "\n",
    "plt.bar( list(ziped_val.keys())[:10] , list(ziped_val.values())[:10]   )\n",
    "plt.xticks(rotation=90)\n",
    "plt.title( \"Feature Importance\" )\n",
    "plt.show()\n",
    "\n",
    "\n"
   ]
  },
  {
   "cell_type": "code",
   "execution_count": null,
   "metadata": {},
   "outputs": [],
   "source": []
  },
  {
   "cell_type": "code",
   "execution_count": 64,
   "metadata": {},
   "outputs": [],
   "source": [
    "xgb_best.get_booster().get_score(importance_type='gain')\n",
    "feature_importances = xgb_best.get_booster().get_score(importance_type='total_gain')"
   ]
  },
  {
   "cell_type": "code",
   "execution_count": 65,
   "metadata": {},
   "outputs": [
    {
     "data": {
      "text/plain": [
       "{'Non Refund     ': 12390.6696585,\n",
       " 'special_request': 1897.2802631288998,\n",
       " 'Online TA': 1660.6017964839998,\n",
       " 'prev_cancel': 1483.1706419399995,\n",
       " 'lead_time': 3090.8791417290895,\n",
       " 'per_Day_price': 2301.3498034845097,\n",
       " 'Transient': 440.5837916668001,\n",
       " 'Groups': 44.1652525602,\n",
       " 'arrival_week': 1310.4293297575005,\n",
       " 'booking_changes': 490.90200753150003,\n",
       " 'duration': 572.1539265142198,\n",
       " 'Offline TA/TO': 26.767169960000004,\n",
       " 'waiting_period': 109.26101302699999,\n",
       " 'Transient-Party': 72.51365386699999,\n",
       " 'Direct': 17.895818008,\n",
       " 'Corporate': 72.636458929,\n",
       " 'parking': 22.72587061}"
      ]
     },
     "execution_count": 65,
     "metadata": {},
     "output_type": "execute_result"
    }
   ],
   "source": [
    "feature_importances"
   ]
  },
  {
   "cell_type": "code",
   "execution_count": 74,
   "metadata": {},
   "outputs": [
    {
     "data": {
      "image/png": "[encoded data removed]",
      "text/plain": [
       "<Figure size 432x288 with 1 Axes>"
      ]
     },
     "metadata": {
      "needs_background": "light"
     },
     "output_type": "display_data"
    }
   ],
   "source": [
    "xgb_best.get_xgb_params()\n",
    "\n",
    "xgplot = xgb.plot_importance(xgb_best,max_num_features=10,importance_type='gain',xlabel='gain')"
   ]
  },
  {
   "cell_type": "code",
   "execution_count": null,
   "metadata": {},
   "outputs": [],
   "source": []
  },
  {
   "cell_type": "code",
   "execution_count": null,
   "metadata": {},
   "outputs": [],
   "source": []
  },
  {
   "cell_type": "markdown",
   "metadata": {
    "colab_type": "text",
    "id": "Cqv9hOnfNNQZ"
   },
   "source": [
    "> #### Task:\n",
    "- **Submit the predictions on the test dataset using your optimized model** <br/>\n",
    "    For each record in the test set (`test.csv`), you must predict whether a customer will cancel his booking or not. You should submit a CSV file with a header row and one row per test entry. \n",
    "\n",
    "The file (`submissions.csv`) should have exactly 2 columns:\n",
    "   - **id**\n",
    "   - **is_cancelled**\n",
    "   "
   ]
  },
  {
   "cell_type": "code",
   "execution_count": null,
   "metadata": {
    "colab": {},
    "colab_type": "code",
    "id": "C2FpSVKqNNQa"
   },
   "outputs": [],
   "source": []
  },
  {
   "cell_type": "code",
   "execution_count": 114,
   "metadata": {},
   "outputs": [],
   "source": [
    "categorical = [\"segment\",\"deposit\",\"cust_type\"]"
   ]
  },
  {
   "cell_type": "markdown",
   "metadata": {},
   "source": [
    "Not all categories are present in test data"
   ]
  },
  {
   "cell_type": "code",
   "execution_count": 86,
   "metadata": {
    "scrolled": true
   },
   "outputs": [
    {
     "name": "stdout",
     "output_type": "stream",
     "text": [
      "['Online TA' 'Offline TA/TO' 'Groups' 'Corporate' 'Direct' 'Aviation'\n",
      " 'Complementary']\n",
      "\n",
      "['No Deposit     ' 'Non Refund     ']\n",
      "\n",
      "['Transient' 'Contract' 'Transient-Party' 'Group']\n",
      "\n"
     ]
    }
   ],
   "source": [
    "for cat in categorical:\n",
    "    print(test_data[cat].unique())\n",
    "    print()"
   ]
  },
  {
   "cell_type": "markdown",
   "metadata": {},
   "source": [
    "Get the missing columns from train and add them to the test dataset. This code also ensure that column resulting from category in the test dataset but not present in the training dataset will be removed."
   ]
  },
  {
   "cell_type": "code",
   "execution_count": 97,
   "metadata": {},
   "outputs": [],
   "source": [
    "for cat in categorical:\n",
    "    dummy = pd.get_dummies(test_data[cat], drop_first=True)\n",
    "    test_data[dummy.columns] = dummy\n",
    "\n",
    "test_data.drop(columns = categorical, inplace = True)"
   ]
  },
  {
   "cell_type": "code",
   "execution_count": 115,
   "metadata": {},
   "outputs": [],
   "source": [
    "cols = list(data.columns)\n",
    "# append id for submission\n",
    "cols.append(\"id\")\n",
    "# remove the label\n",
    "cols.remove(\"is_cancelled\")"
   ]
  },
  {
   "cell_type": "code",
   "execution_count": 116,
   "metadata": {},
   "outputs": [
    {
     "data": {
      "text/plain": [
       "['lead_time',\n",
       " 'arrival_week',\n",
       " 'duration',\n",
       " 'prev_cancel',\n",
       " 'booking_changes',\n",
       " 'waiting_period',\n",
       " 'per_Day_price',\n",
       " 'parking',\n",
       " 'special_request',\n",
       " 'Complementary',\n",
       " 'Corporate',\n",
       " 'Direct',\n",
       " 'Groups',\n",
       " 'Offline TA/TO',\n",
       " 'Online TA',\n",
       " 'Non Refund     ',\n",
       " 'Refundable     ',\n",
       " 'Group',\n",
       " 'Transient',\n",
       " 'Transient-Party',\n",
       " 'id']"
      ]
     },
     "execution_count": 116,
     "metadata": {},
     "output_type": "execute_result"
    }
   ],
   "source": [
    "cols"
   ]
  },
  {
   "cell_type": "code",
   "execution_count": 117,
   "metadata": {},
   "outputs": [
    {
     "data": {
      "text/plain": [
       "21"
      ]
     },
     "execution_count": 117,
     "metadata": {},
     "output_type": "execute_result"
    }
   ],
   "source": [
    "len(cols)"
   ]
  },
  {
   "cell_type": "code",
   "execution_count": 118,
   "metadata": {},
   "outputs": [
    {
     "data": {
      "text/plain": [
       "Index(['lead_time', 'arrival_week', 'duration', 'prev_cancel',\n",
       "       'booking_changes', 'waiting_period', 'per_Day_price', 'parking',\n",
       "       'special_request', 'is_cancelled', 'Complementary', 'Corporate',\n",
       "       'Direct', 'Groups', 'Offline TA/TO', 'Online TA', 'Non Refund     ',\n",
       "       'Refundable     ', 'Group', 'Transient', 'Transient-Party', 'id'],\n",
       "      dtype='object')"
      ]
     },
     "execution_count": 118,
     "metadata": {},
     "output_type": "execute_result"
    }
   ],
   "source": [
    "test_data.columns"
   ]
  },
  {
   "cell_type": "code",
   "execution_count": 119,
   "metadata": {},
   "outputs": [
    {
     "data": {
      "text/plain": [
       "Index(['lead_time', 'arrival_week', 'duration', 'prev_cancel',\n",
       "       'booking_changes', 'waiting_period', 'per_Day_price', 'parking',\n",
       "       'special_request', 'is_cancelled', 'Complementary', 'Corporate',\n",
       "       'Direct', 'Groups', 'Offline TA/TO', 'Online TA', 'Non Refund     ',\n",
       "       'Refundable     ', 'Group', 'Transient', 'Transient-Party'],\n",
       "      dtype='object')"
      ]
     },
     "execution_count": 119,
     "metadata": {},
     "output_type": "execute_result"
    }
   ],
   "source": [
    "data.columns"
   ]
  },
  {
   "cell_type": "code",
   "execution_count": 120,
   "metadata": {},
   "outputs": [],
   "source": [
    "# Get missing columns in the training test\n",
    "missing_cols = set( data.columns ) - set( test_data.columns )\n",
    "# Add a missing column in test set with default value equal to 0\n",
    "for c in missing_cols:\n",
    "    test_data[c] = 0\n",
    "# Ensure the order of column in the test set is in the same order than in train set\n",
    "test_data = test_data[cols]"
   ]
  },
  {
   "cell_type": "code",
   "execution_count": 121,
   "metadata": {},
   "outputs": [
    {
     "name": "stdout",
     "output_type": "stream",
     "text": [
      "21\n"
     ]
    }
   ],
   "source": [
    "print(len(test_data.columns))"
   ]
  },
  {
   "cell_type": "code",
   "execution_count": 122,
   "metadata": {},
   "outputs": [
    {
     "name": "stdout",
     "output_type": "stream",
     "text": [
      "21\n"
     ]
    }
   ],
   "source": [
    "print(len(data.columns))"
   ]
  },
  {
   "cell_type": "code",
   "execution_count": 123,
   "metadata": {},
   "outputs": [
    {
     "data": {
      "text/plain": [
       "Index(['lead_time', 'arrival_week', 'duration', 'prev_cancel',\n",
       "       'booking_changes', 'waiting_period', 'per_Day_price', 'parking',\n",
       "       'special_request', 'Complementary', 'Corporate', 'Direct', 'Groups',\n",
       "       'Offline TA/TO', 'Online TA', 'Non Refund     ', 'Refundable     ',\n",
       "       'Group', 'Transient', 'Transient-Party', 'id'],\n",
       "      dtype='object')"
      ]
     },
     "execution_count": 123,
     "metadata": {},
     "output_type": "execute_result"
    }
   ],
   "source": [
    "test_data.columns"
   ]
  },
  {
   "cell_type": "code",
   "execution_count": 124,
   "metadata": {},
   "outputs": [
    {
     "data": {
      "text/plain": [
       "Index(['lead_time', 'arrival_week', 'duration', 'prev_cancel',\n",
       "       'booking_changes', 'waiting_period', 'per_Day_price', 'parking',\n",
       "       'special_request', 'is_cancelled', 'Complementary', 'Corporate',\n",
       "       'Direct', 'Groups', 'Offline TA/TO', 'Online TA', 'Non Refund     ',\n",
       "       'Refundable     ', 'Group', 'Transient', 'Transient-Party'],\n",
       "      dtype='object')"
      ]
     },
     "execution_count": 124,
     "metadata": {},
     "output_type": "execute_result"
    }
   ],
   "source": [
    "data.columns"
   ]
  },
  {
   "cell_type": "code",
   "execution_count": 125,
   "metadata": {},
   "outputs": [
    {
     "data": {
      "text/html": [
       "<div>\n",
       "<style scoped>\n",
       "    .dataframe tbody tr th:only-of-type {\n",
       "        vertical-align: middle;\n",
       "    }\n",
       "\n",
       "    .dataframe tbody tr th {\n",
       "        vertical-align: top;\n",
       "    }\n",
       "\n",
       "    .dataframe thead th {\n",
       "        text-align: right;\n",
       "    }\n",
       "</style>\n",
       "<table border=\"1\" class=\"dataframe\">\n",
       "  <thead>\n",
       "    <tr style=\"text-align: right;\">\n",
       "      <th></th>\n",
       "      <th>lead_time</th>\n",
       "      <th>arrival_week</th>\n",
       "      <th>duration</th>\n",
       "      <th>prev_cancel</th>\n",
       "      <th>booking_changes</th>\n",
       "      <th>waiting_period</th>\n",
       "      <th>per_Day_price</th>\n",
       "      <th>parking</th>\n",
       "      <th>special_request</th>\n",
       "      <th>Complementary</th>\n",
       "      <th>Corporate</th>\n",
       "      <th>Direct</th>\n",
       "      <th>Groups</th>\n",
       "      <th>Offline TA/TO</th>\n",
       "      <th>Online TA</th>\n",
       "      <th>Non Refund</th>\n",
       "      <th>Refundable</th>\n",
       "      <th>Group</th>\n",
       "      <th>Transient</th>\n",
       "      <th>Transient-Party</th>\n",
       "    </tr>\n",
       "  </thead>\n",
       "  <tbody>\n",
       "    <tr>\n",
       "      <th>0</th>\n",
       "      <td>45</td>\n",
       "      <td>9</td>\n",
       "      <td>3</td>\n",
       "      <td>0</td>\n",
       "      <td>2</td>\n",
       "      <td>0</td>\n",
       "      <td>80.30</td>\n",
       "      <td>0</td>\n",
       "      <td>1</td>\n",
       "      <td>0</td>\n",
       "      <td>0</td>\n",
       "      <td>0</td>\n",
       "      <td>0</td>\n",
       "      <td>0</td>\n",
       "      <td>1</td>\n",
       "      <td>0</td>\n",
       "      <td>0</td>\n",
       "      <td>0</td>\n",
       "      <td>1</td>\n",
       "      <td>0</td>\n",
       "    </tr>\n",
       "    <tr>\n",
       "      <th>1</th>\n",
       "      <td>7</td>\n",
       "      <td>3</td>\n",
       "      <td>5</td>\n",
       "      <td>0</td>\n",
       "      <td>0</td>\n",
       "      <td>0</td>\n",
       "      <td>73.90</td>\n",
       "      <td>0</td>\n",
       "      <td>0</td>\n",
       "      <td>0</td>\n",
       "      <td>0</td>\n",
       "      <td>0</td>\n",
       "      <td>0</td>\n",
       "      <td>0</td>\n",
       "      <td>1</td>\n",
       "      <td>0</td>\n",
       "      <td>0</td>\n",
       "      <td>0</td>\n",
       "      <td>1</td>\n",
       "      <td>0</td>\n",
       "    </tr>\n",
       "    <tr>\n",
       "      <th>2</th>\n",
       "      <td>0</td>\n",
       "      <td>32</td>\n",
       "      <td>2</td>\n",
       "      <td>0</td>\n",
       "      <td>1</td>\n",
       "      <td>0</td>\n",
       "      <td>80.00</td>\n",
       "      <td>1</td>\n",
       "      <td>1</td>\n",
       "      <td>0</td>\n",
       "      <td>0</td>\n",
       "      <td>0</td>\n",
       "      <td>0</td>\n",
       "      <td>0</td>\n",
       "      <td>1</td>\n",
       "      <td>0</td>\n",
       "      <td>0</td>\n",
       "      <td>0</td>\n",
       "      <td>0</td>\n",
       "      <td>0</td>\n",
       "    </tr>\n",
       "    <tr>\n",
       "      <th>3</th>\n",
       "      <td>101</td>\n",
       "      <td>32</td>\n",
       "      <td>1</td>\n",
       "      <td>0</td>\n",
       "      <td>0</td>\n",
       "      <td>0</td>\n",
       "      <td>107.10</td>\n",
       "      <td>0</td>\n",
       "      <td>0</td>\n",
       "      <td>0</td>\n",
       "      <td>0</td>\n",
       "      <td>0</td>\n",
       "      <td>0</td>\n",
       "      <td>0</td>\n",
       "      <td>1</td>\n",
       "      <td>0</td>\n",
       "      <td>0</td>\n",
       "      <td>0</td>\n",
       "      <td>1</td>\n",
       "      <td>0</td>\n",
       "    </tr>\n",
       "    <tr>\n",
       "      <th>4</th>\n",
       "      <td>95</td>\n",
       "      <td>6</td>\n",
       "      <td>2</td>\n",
       "      <td>0</td>\n",
       "      <td>0</td>\n",
       "      <td>0</td>\n",
       "      <td>72.00</td>\n",
       "      <td>0</td>\n",
       "      <td>0</td>\n",
       "      <td>0</td>\n",
       "      <td>0</td>\n",
       "      <td>0</td>\n",
       "      <td>0</td>\n",
       "      <td>1</td>\n",
       "      <td>0</td>\n",
       "      <td>0</td>\n",
       "      <td>0</td>\n",
       "      <td>0</td>\n",
       "      <td>1</td>\n",
       "      <td>0</td>\n",
       "    </tr>\n",
       "    <tr>\n",
       "      <th>...</th>\n",
       "      <td>...</td>\n",
       "      <td>...</td>\n",
       "      <td>...</td>\n",
       "      <td>...</td>\n",
       "      <td>...</td>\n",
       "      <td>...</td>\n",
       "      <td>...</td>\n",
       "      <td>...</td>\n",
       "      <td>...</td>\n",
       "      <td>...</td>\n",
       "      <td>...</td>\n",
       "      <td>...</td>\n",
       "      <td>...</td>\n",
       "      <td>...</td>\n",
       "      <td>...</td>\n",
       "      <td>...</td>\n",
       "      <td>...</td>\n",
       "      <td>...</td>\n",
       "      <td>...</td>\n",
       "      <td>...</td>\n",
       "    </tr>\n",
       "    <tr>\n",
       "      <th>995</th>\n",
       "      <td>17</td>\n",
       "      <td>7</td>\n",
       "      <td>2</td>\n",
       "      <td>0</td>\n",
       "      <td>0</td>\n",
       "      <td>0</td>\n",
       "      <td>110.33</td>\n",
       "      <td>0</td>\n",
       "      <td>0</td>\n",
       "      <td>0</td>\n",
       "      <td>0</td>\n",
       "      <td>1</td>\n",
       "      <td>0</td>\n",
       "      <td>0</td>\n",
       "      <td>0</td>\n",
       "      <td>0</td>\n",
       "      <td>0</td>\n",
       "      <td>0</td>\n",
       "      <td>1</td>\n",
       "      <td>0</td>\n",
       "    </tr>\n",
       "    <tr>\n",
       "      <th>996</th>\n",
       "      <td>37</td>\n",
       "      <td>42</td>\n",
       "      <td>3</td>\n",
       "      <td>0</td>\n",
       "      <td>0</td>\n",
       "      <td>0</td>\n",
       "      <td>105.00</td>\n",
       "      <td>0</td>\n",
       "      <td>0</td>\n",
       "      <td>0</td>\n",
       "      <td>0</td>\n",
       "      <td>0</td>\n",
       "      <td>0</td>\n",
       "      <td>1</td>\n",
       "      <td>0</td>\n",
       "      <td>0</td>\n",
       "      <td>0</td>\n",
       "      <td>0</td>\n",
       "      <td>0</td>\n",
       "      <td>1</td>\n",
       "    </tr>\n",
       "    <tr>\n",
       "      <th>997</th>\n",
       "      <td>41</td>\n",
       "      <td>6</td>\n",
       "      <td>4</td>\n",
       "      <td>0</td>\n",
       "      <td>0</td>\n",
       "      <td>0</td>\n",
       "      <td>115.60</td>\n",
       "      <td>0</td>\n",
       "      <td>1</td>\n",
       "      <td>0</td>\n",
       "      <td>0</td>\n",
       "      <td>0</td>\n",
       "      <td>0</td>\n",
       "      <td>0</td>\n",
       "      <td>1</td>\n",
       "      <td>0</td>\n",
       "      <td>0</td>\n",
       "      <td>0</td>\n",
       "      <td>1</td>\n",
       "      <td>0</td>\n",
       "    </tr>\n",
       "    <tr>\n",
       "      <th>998</th>\n",
       "      <td>214</td>\n",
       "      <td>28</td>\n",
       "      <td>3</td>\n",
       "      <td>0</td>\n",
       "      <td>1</td>\n",
       "      <td>0</td>\n",
       "      <td>99.90</td>\n",
       "      <td>0</td>\n",
       "      <td>1</td>\n",
       "      <td>0</td>\n",
       "      <td>0</td>\n",
       "      <td>0</td>\n",
       "      <td>0</td>\n",
       "      <td>0</td>\n",
       "      <td>1</td>\n",
       "      <td>0</td>\n",
       "      <td>0</td>\n",
       "      <td>0</td>\n",
       "      <td>0</td>\n",
       "      <td>1</td>\n",
       "    </tr>\n",
       "    <tr>\n",
       "      <th>999</th>\n",
       "      <td>67</td>\n",
       "      <td>7</td>\n",
       "      <td>1</td>\n",
       "      <td>0</td>\n",
       "      <td>0</td>\n",
       "      <td>0</td>\n",
       "      <td>51.97</td>\n",
       "      <td>0</td>\n",
       "      <td>0</td>\n",
       "      <td>0</td>\n",
       "      <td>0</td>\n",
       "      <td>0</td>\n",
       "      <td>0</td>\n",
       "      <td>0</td>\n",
       "      <td>1</td>\n",
       "      <td>0</td>\n",
       "      <td>0</td>\n",
       "      <td>0</td>\n",
       "      <td>1</td>\n",
       "      <td>0</td>\n",
       "    </tr>\n",
       "  </tbody>\n",
       "</table>\n",
       "<p>1000 rows × 20 columns</p>\n",
       "</div>"
      ],
      "text/plain": [
       "     lead_time  arrival_week  duration  prev_cancel  booking_changes  \\\n",
       "0           45             9         3            0                2   \n",
       "1            7             3         5            0                0   \n",
       "2            0            32         2            0                1   \n",
       "3          101            32         1            0                0   \n",
       "4           95             6         2            0                0   \n",
       "..         ...           ...       ...          ...              ...   \n",
       "995         17             7         2            0                0   \n",
       "996         37            42         3            0                0   \n",
       "997         41             6         4            0                0   \n",
       "998        214            28         3            0                1   \n",
       "999         67             7         1            0                0   \n",
       "\n",
       "     waiting_period  per_Day_price  parking  special_request  Complementary  \\\n",
       "0                 0          80.30        0                1              0   \n",
       "1                 0          73.90        0                0              0   \n",
       "2                 0          80.00        1                1              0   \n",
       "3                 0         107.10        0                0              0   \n",
       "4                 0          72.00        0                0              0   \n",
       "..              ...            ...      ...              ...            ...   \n",
       "995               0         110.33        0                0              0   \n",
       "996               0         105.00        0                0              0   \n",
       "997               0         115.60        0                1              0   \n",
       "998               0          99.90        0                1              0   \n",
       "999               0          51.97        0                0              0   \n",
       "\n",
       "     Corporate  Direct  Groups  Offline TA/TO  Online TA  Non Refund       \\\n",
       "0            0       0       0              0          1                0   \n",
       "1            0       0       0              0          1                0   \n",
       "2            0       0       0              0          1                0   \n",
       "3            0       0       0              0          1                0   \n",
       "4            0       0       0              1          0                0   \n",
       "..         ...     ...     ...            ...        ...              ...   \n",
       "995          0       1       0              0          0                0   \n",
       "996          0       0       0              1          0                0   \n",
       "997          0       0       0              0          1                0   \n",
       "998          0       0       0              0          1                0   \n",
       "999          0       0       0              0          1                0   \n",
       "\n",
       "     Refundable       Group  Transient  Transient-Party  \n",
       "0                  0      0          1                0  \n",
       "1                  0      0          1                0  \n",
       "2                  0      0          0                0  \n",
       "3                  0      0          1                0  \n",
       "4                  0      0          1                0  \n",
       "..               ...    ...        ...              ...  \n",
       "995                0      0          1                0  \n",
       "996                0      0          0                1  \n",
       "997                0      0          1                0  \n",
       "998                0      0          0                1  \n",
       "999                0      0          1                0  \n",
       "\n",
       "[1000 rows x 20 columns]"
      ]
     },
     "execution_count": 125,
     "metadata": {},
     "output_type": "execute_result"
    }
   ],
   "source": [
    "test_data.drop(columns=[\"id\"])"
   ]
  },
  {
   "cell_type": "code",
   "execution_count": 126,
   "metadata": {
    "colab": {},
    "colab_type": "code",
    "id": "Y-ZgcN1CNNQd"
   },
   "outputs": [],
   "source": [
    "########## Generating Submission file for test data ###########\n",
    "# test_data\n",
    "test_preds = svc_best.predict(test_data.drop(columns=[\"id\"]))"
   ]
  },
  {
   "cell_type": "code",
   "execution_count": 127,
   "metadata": {},
   "outputs": [
    {
     "data": {
      "text/plain": [
       "array([0, 0, 0, 1, 0, 1, 0, 1, 0, 0, 0, 1, 0, 1, 1, 0, 0, 0, 0, 0, 1, 1,\n",
       "       0, 0, 0, 0, 0, 1, 1, 0, 0, 0, 0, 0, 1, 0, 0, 0, 0, 1, 0, 0, 1, 0,\n",
       "       1, 0, 0, 1, 0, 0, 1, 0, 0, 1, 0, 0, 0, 0, 0, 1, 0, 0, 0, 0, 0, 0,\n",
       "       0, 0, 1, 0, 1, 0, 0, 1, 1, 0, 0, 0, 1, 0, 0, 0, 0, 0, 0, 0, 1, 0,\n",
       "       0, 1, 1, 0, 0, 0, 1, 1, 0, 0, 1, 0, 1, 1, 0, 1, 0, 0, 0, 0, 0, 1,\n",
       "       0, 1, 0, 1, 0, 1, 0, 0, 0, 0, 1, 1, 0, 1, 1, 0, 0, 0, 0, 0, 1, 0,\n",
       "       0, 0, 0, 0, 0, 0, 1, 0, 0, 0, 0, 0, 0, 0, 1, 1, 0, 0, 0, 0, 0, 1,\n",
       "       0, 0, 0, 0, 0, 0, 1, 1, 0, 1, 0, 0, 0, 1, 0, 1, 0, 1, 1, 0, 0, 1,\n",
       "       0, 0, 0, 0, 1, 1, 1, 0, 0, 0, 0, 1, 0, 1, 0, 0, 0, 0, 0, 0, 0, 0,\n",
       "       0, 0, 1, 0, 0, 0, 1, 1, 0, 1, 0, 0, 1, 0, 0, 1, 1, 0, 0, 0, 0, 0,\n",
       "       0, 0, 1, 0, 1, 0, 1, 0, 1, 0, 1, 0, 0, 0, 0, 0, 0, 1, 0, 0, 0, 0,\n",
       "       0, 1, 0, 1, 1, 0, 0, 0, 1, 1, 1, 1, 0, 0, 0, 1, 1, 0, 1, 0, 1, 1,\n",
       "       0, 0, 1, 0, 1, 1, 0, 1, 1, 1, 0, 0, 1, 0, 1, 1, 0, 1, 0, 1, 1, 0,\n",
       "       1, 0, 0, 0, 0, 1, 0, 0, 1, 0, 0, 0, 0, 0, 1, 1, 0, 1, 0, 1, 0, 0,\n",
       "       0, 0, 1, 0, 0, 1, 0, 0, 0, 0, 0, 0, 0, 0, 0, 1, 0, 0, 1, 0, 1, 0,\n",
       "       1, 1, 0, 1, 0, 0, 0, 0, 0, 0, 0, 0, 1, 1, 0, 1, 0, 0, 0, 0, 0, 1,\n",
       "       1, 0, 1, 0, 0, 0, 1, 1, 1, 0, 0, 0, 0, 0, 0, 1, 0, 0, 0, 0, 0, 1,\n",
       "       1, 0, 0, 0, 0, 1, 1, 0, 0, 1, 0, 0, 1, 0, 0, 0, 0, 0, 0, 0, 0, 0,\n",
       "       0, 1, 1, 0, 0, 0, 1, 1, 0, 0, 1, 0, 1, 0, 1, 0, 0, 1, 0, 0, 0, 0,\n",
       "       1, 0, 1, 0, 0, 1, 0, 0, 1, 0, 0, 0, 0, 0, 0, 1, 1, 1, 0, 1, 0, 0,\n",
       "       0, 0, 0, 0, 1, 0, 0, 0, 0, 0, 0, 0, 0, 0, 0, 1, 0, 0, 0, 0, 0, 0,\n",
       "       1, 0, 0, 0, 0, 0, 0, 1, 0, 0, 0, 1, 0, 0, 0, 0, 1, 0, 1, 0, 0, 1,\n",
       "       1, 0, 0, 0, 0, 0, 1, 1, 0, 0, 0, 0, 0, 1, 0, 0, 0, 1, 1, 0, 0, 1,\n",
       "       0, 1, 0, 0, 0, 1, 1, 0, 1, 0, 0, 0, 1, 1, 1, 1, 1, 0, 0, 1, 1, 1,\n",
       "       1, 0, 0, 0, 0, 1, 0, 1, 0, 0, 1, 0, 1, 0, 1, 1, 1, 1, 1, 0, 0, 0,\n",
       "       0, 1, 1, 1, 1, 0, 1, 1, 0, 0, 1, 0, 0, 0, 1, 1, 0, 0, 1, 0, 1, 0,\n",
       "       0, 0, 0, 0, 0, 0, 0, 0, 1, 0, 1, 1, 0, 0, 0, 1, 0, 0, 1, 0, 1, 0,\n",
       "       0, 1, 1, 0, 1, 0, 1, 1, 1, 0, 1, 0, 0, 1, 0, 1, 0, 0, 0, 1, 0, 0,\n",
       "       0, 0, 0, 0, 0, 0, 1, 1, 1, 0, 0, 0, 0, 1, 0, 1, 0, 0, 0, 0, 0, 0,\n",
       "       0, 0, 0, 1, 0, 0, 0, 0, 1, 0, 1, 0, 0, 0, 1, 0, 0, 0, 1, 0, 0, 0,\n",
       "       1, 0, 1, 0, 0, 1, 0, 0, 0, 0, 0, 0, 0, 0, 1, 1, 1, 0, 0, 1, 1, 1,\n",
       "       0, 0, 1, 0, 0, 0, 0, 0, 0, 0, 0, 1, 0, 0, 0, 0, 0, 0, 0, 0, 0, 1,\n",
       "       1, 0, 0, 1, 1, 0, 0, 0, 0, 1, 1, 0, 1, 1, 0, 0, 0, 0, 0, 0, 0, 0,\n",
       "       0, 0, 0, 1, 0, 0, 0, 0, 0, 0, 0, 0, 0, 0, 1, 0, 0, 0, 0, 0, 0, 0,\n",
       "       0, 0, 0, 0, 0, 1, 0, 1, 0, 0, 0, 1, 0, 1, 0, 0, 0, 1, 0, 0, 1, 0,\n",
       "       1, 1, 0, 0, 0, 0, 0, 1, 0, 1, 1, 0, 0, 0, 0, 0, 1, 0, 0, 1, 1, 0,\n",
       "       0, 0, 0, 0, 0, 1, 0, 0, 1, 0, 0, 0, 0, 0, 0, 0, 0, 0, 0, 1, 0, 0,\n",
       "       0, 1, 1, 0, 1, 1, 0, 1, 0, 1, 0, 0, 0, 0, 0, 0, 0, 1, 1, 0, 1, 0,\n",
       "       0, 0, 0, 0, 0, 1, 0, 0, 1, 0, 0, 0, 1, 0, 0, 0, 1, 0, 1, 0, 1, 0,\n",
       "       0, 0, 0, 0, 1, 0, 0, 0, 0, 0, 0, 0, 1, 1, 0, 1, 0, 0, 1, 0, 0, 0,\n",
       "       0, 1, 1, 0, 1, 0, 1, 0, 1, 0, 0, 1, 0, 1, 0, 0, 1, 0, 1, 0, 1, 1,\n",
       "       1, 0, 0, 1, 0, 0, 0, 0, 0, 0, 0, 0, 1, 0, 0, 1, 1, 0, 0, 0, 0, 0,\n",
       "       1, 0, 0, 1, 0, 1, 1, 0, 0, 0, 1, 0, 1, 0, 0, 0, 1, 0, 1, 1, 0, 0,\n",
       "       0, 0, 0, 0, 0, 0, 0, 0, 1, 0, 0, 1, 0, 0, 1, 0, 0, 1, 0, 1, 0, 0,\n",
       "       0, 0, 1, 0, 1, 0, 0, 0, 0, 0, 0, 0, 1, 0, 0, 0, 0, 0, 1, 1, 1, 1,\n",
       "       1, 1, 0, 1, 1, 0, 0, 0, 0, 0], dtype=int64)"
      ]
     },
     "execution_count": 127,
     "metadata": {},
     "output_type": "execute_result"
    }
   ],
   "source": [
    "test_preds"
   ]
  },
  {
   "cell_type": "code",
   "execution_count": 128,
   "metadata": {},
   "outputs": [],
   "source": [
    "test_data[\"is_cancelled\"] = test_preds\n",
    "submission_df = test_data[[\"id\", \"is_cancelled\"]]"
   ]
  },
  {
   "cell_type": "code",
   "execution_count": 129,
   "metadata": {},
   "outputs": [
    {
     "data": {
      "text/html": [
       "<div>\n",
       "<style scoped>\n",
       "    .dataframe tbody tr th:only-of-type {\n",
       "        vertical-align: middle;\n",
       "    }\n",
       "\n",
       "    .dataframe tbody tr th {\n",
       "        vertical-align: top;\n",
       "    }\n",
       "\n",
       "    .dataframe thead th {\n",
       "        text-align: right;\n",
       "    }\n",
       "</style>\n",
       "<table border=\"1\" class=\"dataframe\">\n",
       "  <thead>\n",
       "    <tr style=\"text-align: right;\">\n",
       "      <th></th>\n",
       "      <th>id</th>\n",
       "      <th>is_cancelled</th>\n",
       "    </tr>\n",
       "  </thead>\n",
       "  <tbody>\n",
       "    <tr>\n",
       "      <th>0</th>\n",
       "      <td>3200</td>\n",
       "      <td>0</td>\n",
       "    </tr>\n",
       "    <tr>\n",
       "      <th>1</th>\n",
       "      <td>3201</td>\n",
       "      <td>0</td>\n",
       "    </tr>\n",
       "    <tr>\n",
       "      <th>2</th>\n",
       "      <td>3202</td>\n",
       "      <td>0</td>\n",
       "    </tr>\n",
       "    <tr>\n",
       "      <th>3</th>\n",
       "      <td>3203</td>\n",
       "      <td>1</td>\n",
       "    </tr>\n",
       "    <tr>\n",
       "      <th>4</th>\n",
       "      <td>3204</td>\n",
       "      <td>0</td>\n",
       "    </tr>\n",
       "    <tr>\n",
       "      <th>...</th>\n",
       "      <td>...</td>\n",
       "      <td>...</td>\n",
       "    </tr>\n",
       "    <tr>\n",
       "      <th>995</th>\n",
       "      <td>4195</td>\n",
       "      <td>0</td>\n",
       "    </tr>\n",
       "    <tr>\n",
       "      <th>996</th>\n",
       "      <td>4196</td>\n",
       "      <td>0</td>\n",
       "    </tr>\n",
       "    <tr>\n",
       "      <th>997</th>\n",
       "      <td>4197</td>\n",
       "      <td>0</td>\n",
       "    </tr>\n",
       "    <tr>\n",
       "      <th>998</th>\n",
       "      <td>4198</td>\n",
       "      <td>0</td>\n",
       "    </tr>\n",
       "    <tr>\n",
       "      <th>999</th>\n",
       "      <td>4199</td>\n",
       "      <td>0</td>\n",
       "    </tr>\n",
       "  </tbody>\n",
       "</table>\n",
       "<p>1000 rows × 2 columns</p>\n",
       "</div>"
      ],
      "text/plain": [
       "       id  is_cancelled\n",
       "0    3200             0\n",
       "1    3201             0\n",
       "2    3202             0\n",
       "3    3203             1\n",
       "4    3204             0\n",
       "..    ...           ...\n",
       "995  4195             0\n",
       "996  4196             0\n",
       "997  4197             0\n",
       "998  4198             0\n",
       "999  4199             0\n",
       "\n",
       "[1000 rows x 2 columns]"
      ]
     },
     "execution_count": 129,
     "metadata": {},
     "output_type": "execute_result"
    }
   ],
   "source": [
    "submission_df"
   ]
  },
  {
   "cell_type": "code",
   "execution_count": 130,
   "metadata": {
    "colab": {},
    "colab_type": "code",
    "id": "7K2uCUWhNNQj"
   },
   "outputs": [],
   "source": [
    "#Submission\n",
    "submission_df.to_csv('submissions.csv',index=False)\n"
   ]
  },
  {
   "cell_type": "code",
   "execution_count": null,
   "metadata": {},
   "outputs": [],
   "source": []
  }
 ],
 "metadata": {
  "colab": {
   "name": "Questions.ipynb",
   "provenance": []
  },
  "kernelspec": {
   "display_name": "Python 3",
   "language": "python",
   "name": "python3"
  },
  "language_info": {
   "codemirror_mode": {
    "name": "ipython",
    "version": 3
   },
   "file_extension": ".py",
   "mimetype": "text/x-python",
   "name": "python",
   "nbconvert_exporter": "python",
   "pygments_lexer": "ipython3",
   "version": "3.8.3"
  },
  "toc": {
   "base_numbering": 1,
   "nav_menu": {},
   "number_sections": true,
   "sideBar": true,
   "skip_h1_title": false,
   "title_cell": "Table of Contents",
   "title_sidebar": "Contents",
   "toc_cell": false,
   "toc_position": {},
   "toc_section_display": true,
   "toc_window_display": false
  }
 },
 "nbformat": 4,
 "nbformat_minor": 4
}
