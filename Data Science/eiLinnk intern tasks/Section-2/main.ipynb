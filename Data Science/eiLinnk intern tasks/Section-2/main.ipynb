{
 "cells": [
  {
   "cell_type": "code",
   "execution_count": 1,
   "id": "4b8d4102",
   "metadata": {},
   "outputs": [],
   "source": [
    "import numpy as np\n",
    "from scipy.special import factorial\n",
    "import pandas as pd\n",
    "import time"
   ]
  },
  {
   "cell_type": "markdown",
   "id": "38f059a5",
   "metadata": {},
   "source": [
    "## Task 1 "
   ]
  },
  {
   "cell_type": "code",
   "execution_count": 2,
   "id": "50e42f76",
   "metadata": {},
   "outputs": [],
   "source": [
    "def generate_primes(n,batch_size = 10):\n",
    "    \n",
    "    arr = np.array( [ 2,3 ] )\n",
    "\n",
    "    step = 5 if n <= 50 else int(round( n/batch_size , -1)/2)\n",
    "    c = 1\n",
    "    while len(arr) < n:\n",
    "        rng_arr = np.reshape(np.arange( c, c+step ), (-1, step ) )\n",
    "        primes_arr = np.concatenate([(6*rng_arr - 1) ,(6*rng_arr + 1) ]).flatten('F')\n",
    "        # Wilson's theorem - (n-1)! + 1 is divisible to n\n",
    "        #res = primes_arr[ ((factorial(primes_arr-1, exact =  True) + 1) % primes_arr) == 0 ]\n",
    "        mask = np.apply_along_axis( lambda x,y : 0 not in ( x % y[y <= np.sqrt(x)] )   , axis=0, arr = primes_arr.reshape( -1 ,primes_arr.shape[0] ) ,y=np.concatenate([ arr, primes_arr ]) )       \n",
    "        res = primes_arr[mask] \n",
    "        arr = np.concatenate( [ arr, res ] )\n",
    "        c+= step\n",
    "        \n",
    "    return arr[:n]\n",
    "    "
   ]
  },
  {
   "cell_type": "code",
   "execution_count": 3,
   "id": "fef2150a",
   "metadata": {},
   "outputs": [
    {
     "data": {
      "text/plain": [
       "'\\n2, 3, 5, 7, 11, 13, 17, 19, 23, 29, 31, 37, 41, 43, 47, 53, 59,\\n61, 67, 71, 73, 79, 83, 89, 97, 101, 103, 107, 109, 113, 127, 131,\\n137, 139, 149, 151, 157, 163, 167, 173, 179, 181, 191, 193, 197, 199…\\n'"
      ]
     },
     "execution_count": 3,
     "metadata": {},
     "output_type": "execute_result"
    }
   ],
   "source": [
    "'''\n",
    "2, 3, 5, 7, 11, 13, 17, 19, 23, 29, 31, 37, 41, 43, 47, 53, 59,\n",
    "61, 67, 71, 73, 79, 83, 89, 97, 101, 103, 107, 109, 113, 127, 131,\n",
    "137, 139, 149, 151, 157, 163, 167, 173, 179, 181, 191, 193, 197, 199…\n",
    "'''"
   ]
  },
  {
   "cell_type": "code",
   "execution_count": 7,
   "id": "59e73f35",
   "metadata": {},
   "outputs": [
    {
     "name": "stdout",
     "output_type": "stream",
     "text": [
      "(10001,)\n",
      "[     2      3      5 ... 104723 104729 104743]\n",
      "0.6760604381561279\n"
     ]
    }
   ],
   "source": [
    "tac = time.time()\n",
    "t1 = generate_primes( 10001 )\n",
    "print(t1.shape)\n",
    "print( t1 )\n",
    "print( time.time() - tac )"
   ]
  },
  {
   "cell_type": "code",
   "execution_count": null,
   "id": "e267e4f2",
   "metadata": {},
   "outputs": [],
   "source": [
    "# Provide list of every number in the sequence till 10001st in csv file\n",
    "pd.DataFrame( t , columns = [\"Primes\"]).to_csv( \"Primes.csv\", index = False )"
   ]
  },
  {
   "cell_type": "code",
   "execution_count": null,
   "id": "b864b381",
   "metadata": {},
   "outputs": [],
   "source": [
    "#  Sum 1st, 2nd, 101st, 1001st, and 10001st numbers from aforementioned sequence\n",
    "np.sum( t[ [ 0 ,1,100,1000,10000  ] ] )"
   ]
  },
  {
   "cell_type": "code",
   "execution_count": null,
   "id": "92c9a119",
   "metadata": {},
   "outputs": [],
   "source": []
  },
  {
   "cell_type": "markdown",
   "id": "22f861a3",
   "metadata": {},
   "source": [
    "## Task 2"
   ]
  },
  {
   "cell_type": "code",
   "execution_count": null,
   "id": "d4f1c20a",
   "metadata": {},
   "outputs": [],
   "source": []
  },
  {
   "cell_type": "code",
   "execution_count": 8,
   "id": "1cef0005",
   "metadata": {},
   "outputs": [],
   "source": [
    "n_sh = 100\n",
    "n = np.arange(  1, n_sh +1   ).reshape(  n_sh , -1  )\n",
    "b = np.arange(  1, 1001  ).reshape( -1, 1000  )\n",
    "c = np.arange(  1, 1001  ).reshape( -1, 1000 )\n",
    "y = generate_primes( 11000 )"
   ]
  },
  {
   "cell_type": "code",
   "execution_count": null,
   "id": "b7422d95",
   "metadata": {},
   "outputs": [],
   "source": []
  },
  {
   "cell_type": "code",
   "execution_count": 9,
   "id": "19eba6e8",
   "metadata": {},
   "outputs": [
    {
     "name": "stdout",
     "output_type": "stream",
     "text": [
      "28.70930290222168\n"
     ]
    }
   ],
   "source": [
    "def cons( x ):\n",
    "    a = np.nonzero(x)[0]\n",
    "    con = np.diff(np.concatenate(([-1],) + np.nonzero(np.diff( a  ) != 1) + ([len(  a  )-1],)))\n",
    "    return con.max()\n",
    "\n",
    "tic = time.time()\n",
    "v1 = ( (np.square(n) + (n * b))[..., np.newaxis]  + c ).reshape( n_sh , 1000000 )\n",
    "mask = np.isin( v1,y )\n",
    "consenq = np.apply_along_axis( cons ,arr = mask , axis = 0   )\n",
    "print( time.time() - tic ) "
   ]
  },
  {
   "cell_type": "code",
   "execution_count": 10,
   "id": "f455ca78",
   "metadata": {},
   "outputs": [
    {
     "data": {
      "text/plain": [
       "array([766709, 812849, 812847, ...,   4046,   2042,     40], dtype=int64)"
      ]
     },
     "execution_count": 10,
     "metadata": {},
     "output_type": "execute_result"
    }
   ],
   "source": [
    "np.argsort( consenq )"
   ]
  },
  {
   "cell_type": "code",
   "execution_count": 17,
   "id": "721f8653",
   "metadata": {},
   "outputs": [
    {
     "name": "stdout",
     "output_type": "stream",
     "text": [
      "B = 5 ; C = 47\n",
      "B = 3 ; C = 43\n",
      "B = 1 ; C = 41\n",
      "That 3 nums: [235, 129, 41]  Sum : 405\n"
     ]
    }
   ],
   "source": [
    "mult_BC = []\n",
    "\n",
    "for i in np.argsort( consenq )[ -3: ]:\n",
    "    arg = i + 1 \n",
    "    B = ( arg // 1000 )+1\n",
    "    C = ( arg % 1000 )\n",
    "    mult_BC.append( B * C )\n",
    "    print( \"B =\",B,\";\",\"C =\",C )\n",
    "\n",
    "# show result\n",
    "print( \"That 3 nums:\" , mult_BC, \" Sum :\", sum(mult_BC) )"
   ]
  },
  {
   "cell_type": "code",
   "execution_count": null,
   "id": "66e40ddd",
   "metadata": {},
   "outputs": [],
   "source": []
  },
  {
   "cell_type": "code",
   "execution_count": 18,
   "id": "ca9748d6",
   "metadata": {},
   "outputs": [
    {
     "data": {
      "text/plain": [
       "39"
      ]
     },
     "execution_count": 18,
     "metadata": {},
     "output_type": "execute_result"
    }
   ],
   "source": [
    "#testing\n",
    "t = np.square(n) + n*1 + 41\n",
    "mask = np.isin( t,y )\n",
    "a = np.nonzero(mask)[0]\n",
    "con = np.diff(np.concatenate(([-1],) + np.nonzero(np.diff(a) != 1) + ([len(a)-1],)))\n",
    "con.max()\n"
   ]
  },
  {
   "cell_type": "code",
   "execution_count": null,
   "id": "8533e100",
   "metadata": {},
   "outputs": [],
   "source": []
  },
  {
   "cell_type": "markdown",
   "id": "dc586f64",
   "metadata": {},
   "source": [
    "## Task 3 "
   ]
  },
  {
   "cell_type": "code",
   "execution_count": null,
   "id": "cd81412b",
   "metadata": {},
   "outputs": [],
   "source": [
    "\n",
    "def snake_array(arr_sh):\n",
    "    \n",
    "    m = np.arange( arr_sh**2 ,0,-1)\n",
    "    arr = np.zeros( ( arr_sh , arr_sh ) )\n",
    "    \n",
    "    i1 ,sh =  0, arr_sh\n",
    "    for i in range(  (arr_sh-1)//2  ):\n",
    "        if i > 0:\n",
    "            arr[i,i:-i] = m[ i1 : i1+sh ][::-1]\n",
    "            arr[ i:-i ,i ] = m[ (i1-1+sh) : (i1-1+(2*sh)) ]\n",
    "            arr[-(i+1), i:-i ] =  m[ (i1-2+(2*sh)) : (i1-2+(3*sh))  ]\n",
    "            arr[i+1:-i,-(i+1)] = m[ (i1-3+(3*sh)) : (i1-4+(4*sh))   ][::-1]\n",
    "        else:\n",
    "            arr[0,:] = m[ i1 : i1+sh ][::-1]\n",
    "            arr[ :, 0 ] = m[ (i1-1+sh) : (i1-1+(2*sh)) ]\n",
    "            arr[-1,:] =  m[ (i1-2+(2*sh)) : (i1-2+(3*sh))  ]\n",
    "            arr[1:,-1] = m[ (i1-3+(3*sh)) : (i1-4+(4*sh))   ][::-1]\n",
    "\n",
    "        i1 = (i1-4+(4*sh))\n",
    "        sh -= 2\n",
    "\n",
    "    arr[ (arr_sh-1)//2 , (arr_sh-1)//2 ] = 1\n",
    "    return arr\n",
    "\n"
   ]
  },
  {
   "cell_type": "code",
   "execution_count": null,
   "id": "41a1dc55",
   "metadata": {},
   "outputs": [],
   "source": [
    "tac = time.time()\n",
    "for num in [7,13,19]:\n",
    "    print( \"-\"*20 , num , \"-\"*20 )\n",
    "    arr = snake_array( num )\n",
    "    diag1 = np.diag(arr)\n",
    "    diag2 = np.diag(np.fliplr(arr))\n",
    "    print( \"Sum of diagonals:\", np.sum( [ diag1, diag2 ] ) - 1  )\n",
    "    print( \"Multiplication numbers on the corners:\", diag1[0]*diag1[-1]*diag2[0]*diag2[-1] )\n",
    "    \n",
    "print( time.time() - tac )"
   ]
  },
  {
   "cell_type": "code",
   "execution_count": null,
   "id": "37811f3b",
   "metadata": {},
   "outputs": [],
   "source": []
  }
 ],
 "metadata": {
  "kernelspec": {
   "display_name": "Python 3",
   "language": "python",
   "name": "python3"
  },
  "language_info": {
   "codemirror_mode": {
    "name": "ipython",
    "version": 3
   },
   "file_extension": ".py",
   "mimetype": "text/x-python",
   "name": "python",
   "nbconvert_exporter": "python",
   "pygments_lexer": "ipython3",
   "version": "3.8.8"
  }
 },
 "nbformat": 4,
 "nbformat_minor": 5
}
